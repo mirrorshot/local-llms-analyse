{
 "cells": [
  {
   "cell_type": "code",
   "execution_count": 6,
   "metadata": {
    "ExecuteTime": {
     "end_time": "2024-03-13T22:46:02.055835Z",
     "start_time": "2024-03-13T22:46:02.053303Z"
    }
   },
   "outputs": [],
   "source": [
    "# !pip3 install langchain_community"
   ]
  },
  {
   "cell_type": "code",
   "execution_count": 7,
   "metadata": {
    "ExecuteTime": {
     "end_time": "2024-03-13T22:46:02.066639Z",
     "start_time": "2024-03-13T22:46:02.064219Z"
    }
   },
   "outputs": [],
   "source": [
    "from langchain_community.llms import Ollama"
   ]
  },
  {
   "cell_type": "code",
   "execution_count": 8,
   "metadata": {
    "ExecuteTime": {
     "end_time": "2024-03-13T22:46:04.012382Z",
     "start_time": "2024-03-13T22:46:02.068511Z"
    }
   },
   "outputs": [
    {
     "data": {
      "text/plain": "'\\nThe first man to walk on the moon was Neil Armstrong, who stepped onto the lunar surface on July 20, 1969 during the Apollo 11 mission. He famously declared \"That\\'s one small step for man, one giant leap for mankind\" as he took his first steps on the moon\\'s surface. Armstrong was followed by fellow astronaut Edwin \"Buzz\" Aldrin, who also walked on the moon during the same mission.'"
     },
     "execution_count": 8,
     "metadata": {},
     "output_type": "execute_result"
    }
   ],
   "source": [
    "llm = Ollama(model=\"llama2\")\n",
    "llm.invoke(\"The first man on the moon was ...\")"
   ]
  },
  {
   "cell_type": "code",
   "execution_count": 9,
   "metadata": {
    "ExecuteTime": {
     "end_time": "2024-03-13T22:46:05.245477Z",
     "start_time": "2024-03-13T22:46:04.013504Z"
    }
   },
   "outputs": [
    {
     "data": {
      "text/plain": "'Of course! Here are the categories for each expense:\\n\\nTaxi Utrecht - Transportation\\nMinisterie van Justitie en Veiligheid - Government\\nEtos AMSTERDAM NLD - Groceries\\nBistro Bar Amsterdam - Dining\\n\\nI hope this helps! Let me know if you have any other questions.'"
     },
     "execution_count": 9,
     "metadata": {},
     "output_type": "execute_result"
    }
   ],
   "source": [
    "llm.invoke(\"Can you add an appropriate category next to each of the following expenses. Respond with a list of categories separated by commas. For example, Spotify AB by Adyen - \\\n",
    "Entertainment, Beta Boulders Ams Amsterdam Nld - Sports, etc.: \\\n",
    "Taxi Utrecht, Ministerie van Justitie en Veiligheid, Etos AMSTERDAM NLD, Bistro Bar Amsterdam\")"
   ]
  },
  {
   "cell_type": "markdown",
   "metadata": {},
   "source": [
    "### Read transaction data"
   ]
  },
  {
   "cell_type": "code",
   "execution_count": 10,
   "metadata": {
    "ExecuteTime": {
     "end_time": "2024-03-13T22:46:05.256117Z",
     "start_time": "2024-03-13T22:46:05.246869Z"
    }
   },
   "outputs": [
    {
     "data": {
      "text/plain": "         Date        Name / Description Expense/Income  Amount (EUR)\n0  2023-12-30           Belastingdienst        Expense          9.96\n1  2023-12-30               Tesco Breda        Expense         17.53\n2  2023-12-30   Monthly Appartment Rent        Expense        451.00\n3  2023-12-30  Vishandel Sier Amsterdam        Expense         12.46\n4  2023-12-29         Selling Paintings         Income         13.63",
      "text/html": "<div>\n<style scoped>\n    .dataframe tbody tr th:only-of-type {\n        vertical-align: middle;\n    }\n\n    .dataframe tbody tr th {\n        vertical-align: top;\n    }\n\n    .dataframe thead th {\n        text-align: right;\n    }\n</style>\n<table border=\"1\" class=\"dataframe\">\n  <thead>\n    <tr style=\"text-align: right;\">\n      <th></th>\n      <th>Date</th>\n      <th>Name / Description</th>\n      <th>Expense/Income</th>\n      <th>Amount (EUR)</th>\n    </tr>\n  </thead>\n  <tbody>\n    <tr>\n      <th>0</th>\n      <td>2023-12-30</td>\n      <td>Belastingdienst</td>\n      <td>Expense</td>\n      <td>9.96</td>\n    </tr>\n    <tr>\n      <th>1</th>\n      <td>2023-12-30</td>\n      <td>Tesco Breda</td>\n      <td>Expense</td>\n      <td>17.53</td>\n    </tr>\n    <tr>\n      <th>2</th>\n      <td>2023-12-30</td>\n      <td>Monthly Appartment Rent</td>\n      <td>Expense</td>\n      <td>451.00</td>\n    </tr>\n    <tr>\n      <th>3</th>\n      <td>2023-12-30</td>\n      <td>Vishandel Sier Amsterdam</td>\n      <td>Expense</td>\n      <td>12.46</td>\n    </tr>\n    <tr>\n      <th>4</th>\n      <td>2023-12-29</td>\n      <td>Selling Paintings</td>\n      <td>Income</td>\n      <td>13.63</td>\n    </tr>\n  </tbody>\n</table>\n</div>"
     },
     "execution_count": 10,
     "metadata": {},
     "output_type": "execute_result"
    }
   ],
   "source": [
    "# Read the transactions_2022_2023.csv file \n",
    "import pandas as pd\n",
    "df = pd.read_csv(\"/mnt/f/Progetti/local-llms-analyse/\"+\"transactions_2022_2023.csv\")\n",
    "df.head()"
   ]
  },
  {
   "cell_type": "code",
   "execution_count": 11,
   "metadata": {
    "ExecuteTime": {
     "end_time": "2024-03-13T22:46:05.260810Z",
     "start_time": "2024-03-13T22:46:05.257198Z"
    }
   },
   "outputs": [
    {
     "data": {
      "text/plain": "31"
     },
     "execution_count": 11,
     "metadata": {},
     "output_type": "execute_result"
    }
   ],
   "source": [
    "# Get unique transactions in the Name / Description column\n",
    "unique_transactions = df[\"Name / Description\"].unique()\n",
    "len(unique_transactions)"
   ]
  },
  {
   "cell_type": "code",
   "execution_count": 12,
   "metadata": {
    "ExecuteTime": {
     "end_time": "2024-03-13T22:46:05.266134Z",
     "start_time": "2024-03-13T22:46:05.262027Z"
    }
   },
   "outputs": [
    {
     "data": {
      "text/plain": "array(['Tesco Breda', 'Monthly Appartment Rent',\n       'Vishandel Sier Amsterdam', 'Selling Paintings',\n       'Spotify Ab By Adyen', 'Tk Maxx Amsterdam Da', 'Consulting',\n       'Aidsfonds', 'Tls Bv Inz Ov-Chipkaart'], dtype=object)"
     },
     "execution_count": 12,
     "metadata": {},
     "output_type": "execute_result"
    }
   ],
   "source": [
    "unique_transactions[1:10]"
   ]
  },
  {
   "cell_type": "markdown",
   "metadata": {},
   "source": [
    "### Categorise bank transactions with Llama2"
   ]
  },
  {
   "cell_type": "code",
   "execution_count": 13,
   "metadata": {
    "ExecuteTime": {
     "end_time": "2024-03-13T22:46:05.271169Z",
     "start_time": "2024-03-13T22:46:05.267238Z"
    }
   },
   "outputs": [
    {
     "data": {
      "text/plain": "[0, 30, 31]"
     },
     "execution_count": 13,
     "metadata": {},
     "output_type": "execute_result"
    }
   ],
   "source": [
    "# Get index list\n",
    "#https://stackoverflow.com/questions/47518609/for-loop-range-and-interval-how-to-include-last-step\n",
    "def hop(start, stop, step):\n",
    "    for i in range(start, stop, step):\n",
    "        yield i\n",
    "    yield stop\n",
    "\n",
    "index_list = list(hop(0, len(unique_transactions), 30))\n",
    "index_list"
   ]
  },
  {
   "cell_type": "code",
   "execution_count": 14,
   "metadata": {
    "ExecuteTime": {
     "end_time": "2024-03-13T22:46:05.275324Z",
     "start_time": "2024-03-13T22:46:05.272178Z"
    }
   },
   "outputs": [],
   "source": [
    "def categorize_transactions(transaction_names, llm):\n",
    "    response = llm.invoke(\"Can you add an appropriate category to the following expenses. For example: Spotify AB by Adyen - Entertainment, Beta Boulders Ams Amsterdam Nld - Sport, etc.. Categories should be less than 4 words. \" + transaction_names)\n",
    "    response = response.split('\\n')\n",
    "\n",
    "    print(response)\n",
    "\n",
    "    # Put in dataframe\n",
    "    categories_df = pd.DataFrame({'Transaction vs category': response})\n",
    "    categories_df[['Transaction', 'Category']] = categories_df['Transaction vs category'].str.split(' - ', expand=True)\n",
    "    \n",
    "    return categories_df"
   ]
  },
  {
   "cell_type": "code",
   "execution_count": 15,
   "metadata": {
    "ExecuteTime": {
     "end_time": "2024-03-13T22:46:06.909917Z",
     "start_time": "2024-03-13T22:46:05.276857Z"
    }
   },
   "outputs": [
    {
     "name": "stdout",
     "output_type": "stream",
     "text": [
      "['Of course! Here are the appropriate categories for each expense:', '', '1. Spotify AB by Adyen - Entertainment', '2. Beta Boulders Ams Amsterdam Nld - Sport', '3. ISS Catering Services De Meern - Food & Beverage', '4. Taxi Utrecht - Transportation', '5. Etos AMSTERDAM NLD - Retail', '6. Bistro Bar Amsterdam - Food & Beverage']\n"
     ]
    },
    {
     "data": {
      "text/plain": "                             Transaction vs category  \\\n0  Of course! Here are the appropriate categories...   \n1                                                      \n2             1. Spotify AB by Adyen - Entertainment   \n3         2. Beta Boulders Ams Amsterdam Nld - Sport   \n4  3. ISS Catering Services De Meern - Food & Bev...   \n5                   4. Taxi Utrecht - Transportation   \n6                     5. Etos AMSTERDAM NLD - Retail   \n7          6. Bistro Bar Amsterdam - Food & Beverage   \n\n                                         Transaction         Category  \n0  Of course! Here are the appropriate categories...             None  \n1                                                                None  \n2                             1. Spotify AB by Adyen    Entertainment  \n3                 2. Beta Boulders Ams Amsterdam Nld            Sport  \n4                  3. ISS Catering Services De Meern  Food & Beverage  \n5                                    4. Taxi Utrecht   Transportation  \n6                              5. Etos AMSTERDAM NLD           Retail  \n7                            6. Bistro Bar Amsterdam  Food & Beverage  ",
      "text/html": "<div>\n<style scoped>\n    .dataframe tbody tr th:only-of-type {\n        vertical-align: middle;\n    }\n\n    .dataframe tbody tr th {\n        vertical-align: top;\n    }\n\n    .dataframe thead th {\n        text-align: right;\n    }\n</style>\n<table border=\"1\" class=\"dataframe\">\n  <thead>\n    <tr style=\"text-align: right;\">\n      <th></th>\n      <th>Transaction vs category</th>\n      <th>Transaction</th>\n      <th>Category</th>\n    </tr>\n  </thead>\n  <tbody>\n    <tr>\n      <th>0</th>\n      <td>Of course! Here are the appropriate categories...</td>\n      <td>Of course! Here are the appropriate categories...</td>\n      <td>None</td>\n    </tr>\n    <tr>\n      <th>1</th>\n      <td></td>\n      <td></td>\n      <td>None</td>\n    </tr>\n    <tr>\n      <th>2</th>\n      <td>1. Spotify AB by Adyen - Entertainment</td>\n      <td>1. Spotify AB by Adyen</td>\n      <td>Entertainment</td>\n    </tr>\n    <tr>\n      <th>3</th>\n      <td>2. Beta Boulders Ams Amsterdam Nld - Sport</td>\n      <td>2. Beta Boulders Ams Amsterdam Nld</td>\n      <td>Sport</td>\n    </tr>\n    <tr>\n      <th>4</th>\n      <td>3. ISS Catering Services De Meern - Food &amp; Bev...</td>\n      <td>3. ISS Catering Services De Meern</td>\n      <td>Food &amp; Beverage</td>\n    </tr>\n    <tr>\n      <th>5</th>\n      <td>4. Taxi Utrecht - Transportation</td>\n      <td>4. Taxi Utrecht</td>\n      <td>Transportation</td>\n    </tr>\n    <tr>\n      <th>6</th>\n      <td>5. Etos AMSTERDAM NLD - Retail</td>\n      <td>5. Etos AMSTERDAM NLD</td>\n      <td>Retail</td>\n    </tr>\n    <tr>\n      <th>7</th>\n      <td>6. Bistro Bar Amsterdam - Food &amp; Beverage</td>\n      <td>6. Bistro Bar Amsterdam</td>\n      <td>Food &amp; Beverage</td>\n    </tr>\n  </tbody>\n</table>\n</div>"
     },
     "execution_count": 15,
     "metadata": {},
     "output_type": "execute_result"
    }
   ],
   "source": [
    "# Test out the function\n",
    "categorize_transactions('ISS Catering Services De Meern, Taxi Utrecht, Etos AMSTERDAM NLD, Bistro Bar Amsterdam',\n",
    "                        llm)"
   ]
  },
  {
   "cell_type": "code",
   "execution_count": 16,
   "metadata": {
    "ExecuteTime": {
     "end_time": "2024-03-13T22:46:14.390470Z",
     "start_time": "2024-03-13T22:46:06.911073Z"
    }
   },
   "outputs": [
    {
     "name": "stdout",
     "output_type": "stream",
     "text": [
      "['Sure! Here are the categories for each expense:', '', '1. Belastingdienst - Taxes', '2. Tesco Breda - Groceries', '3. Monthly Appartment Rent - Housing', '4. Vishandel Sier Amsterdam - Shopping', '5. Selling Paintings - Art/Hobbies', '6. Spotify AB by Adyen - Entertainment', '7. Tk Maxx Amsterdam DA - Shopping', '8. Consulting - Business/Professional Services', '9. Aidsfonds - Charity', '10. TLS BV Inz Ov-Chipkaart - Transportation', '11. Etos Amsterdam - Groceries', '12. Beta Boulders AMS Amsterdam - Entertainment', '13. Salary - Personal Income', '14. Bouldermuur BV Amsterdam - Business/Professional Services', '15. Birtat Restaurant Amsterdam - Dining', '16. Freelancing - Personal Income', '17. Tikkie - Personal Finance', '18. Blogging - Personal Hobbies', '19. Taxi Utrecht - Transportation', '20. Apple Services - Technology', '21. Amazon Lux - Shopping', '22. Classpass* Monthly - Fitness/Wellness', '23. Audible UK AdblCo/Pymt Gbr - Entertainment', '24. Twitch Lux - Personal Income', '25. PayPal Ltd - Online Services', '26. NTT Data - Technology', '27. ATM Milano - Financial Services', '28. Tenoha Milano - Shopping', '29. Librerie La Feltrinelli - Books/Media', '30. Muji - Personal Income', '', 'Please note that these categories are just suggestions and can be adjusted based on your personal preferences or accounting needs.']\n",
      "['Sure! Here are some possible categories for each of your expenses:', '', '1. Spotify AB by Adyen - Entertainment', '2. Beta Boulders Ams Amsterdam Nld - Sport', '3. LEGO Store Babila - Hobby/Leisure']\n"
     ]
    }
   ],
   "source": [
    "# Intialise the categories_df_all dataframe\n",
    "categories_df_all = pd.DataFrame()\n",
    "\n",
    "# Loop through the index_list\n",
    "for i in range(0, len(index_list)-1):\n",
    "    transaction_names = unique_transactions[index_list[i]:index_list[i+1]]\n",
    "    transaction_names = ','.join(transaction_names)\n",
    "\n",
    "    categories_df = categorize_transactions(transaction_names, llm)\n",
    "    categories_df_all = pd.concat([categories_df_all, categories_df], ignore_index=True)"
   ]
  },
  {
   "cell_type": "code",
   "execution_count": 17,
   "metadata": {
    "ExecuteTime": {
     "end_time": "2024-03-13T22:46:14.397432Z",
     "start_time": "2024-03-13T22:46:14.391550Z"
    }
   },
   "outputs": [
    {
     "data": {
      "text/plain": "                              Transaction vs category  \\\n0     Sure! Here are the categories for each expense:   \n1                                                       \n2                          1. Belastingdienst - Taxes   \n3                          2. Tesco Breda - Groceries   \n4                3. Monthly Appartment Rent - Housing   \n5              4. Vishandel Sier Amsterdam - Shopping   \n6                  5. Selling Paintings - Art/Hobbies   \n7              6. Spotify AB by Adyen - Entertainment   \n8                  7. Tk Maxx Amsterdam DA - Shopping   \n9      8. Consulting - Business/Professional Services   \n10                             9. Aidsfonds - Charity   \n11       10. TLS BV Inz Ov-Chipkaart - Transportation   \n12                     11. Etos Amsterdam - Groceries   \n13    12. Beta Boulders AMS Amsterdam - Entertainment   \n14                       13. Salary - Personal Income   \n15  14. Bouldermuur BV Amsterdam - Business/Profes...   \n16           15. Birtat Restaurant Amsterdam - Dining   \n17                  16. Freelancing - Personal Income   \n18                      17. Tikkie - Personal Finance   \n19                    18. Blogging - Personal Hobbies   \n20                  19. Taxi Utrecht - Transportation   \n21                    20. Apple Services - Technology   \n22                          21. Amazon Lux - Shopping   \n23          22. Classpass* Monthly - Fitness/Wellness   \n24     23. Audible UK AdblCo/Pymt Gbr - Entertainment   \n25                   24. Twitch Lux - Personal Income   \n26                   25. PayPal Ltd - Online Services   \n27                          26. NTT Data - Technology   \n28                27. ATM Milano - Financial Services   \n29                       28. Tenoha Milano - Shopping   \n30          29. Librerie La Feltrinelli - Books/Media   \n31                         30. Muji - Personal Income   \n32                                                      \n33  Please note that these categories are just sug...   \n34  Sure! Here are some possible categories for ea...   \n35                                                      \n36             1. Spotify AB by Adyen - Entertainment   \n37         2. Beta Boulders Ams Amsterdam Nld - Sport   \n38               3. LEGO Store Babila - Hobby/Leisure   \n\n                                          Transaction  \\\n0     Sure! Here are the categories for each expense:   \n1                                                       \n2                                  1. Belastingdienst   \n3                                      2. Tesco Breda   \n4                          3. Monthly Appartment Rent   \n5                         4. Vishandel Sier Amsterdam   \n6                                5. Selling Paintings   \n7                              6. Spotify AB by Adyen   \n8                             7. Tk Maxx Amsterdam DA   \n9                                       8. Consulting   \n10                                       9. Aidsfonds   \n11                        10. TLS BV Inz Ov-Chipkaart   \n12                                 11. Etos Amsterdam   \n13                    12. Beta Boulders AMS Amsterdam   \n14                                         13. Salary   \n15                       14. Bouldermuur BV Amsterdam   \n16                    15. Birtat Restaurant Amsterdam   \n17                                    16. Freelancing   \n18                                         17. Tikkie   \n19                                       18. Blogging   \n20                                   19. Taxi Utrecht   \n21                                 20. Apple Services   \n22                                     21. Amazon Lux   \n23                             22. Classpass* Monthly   \n24                     23. Audible UK AdblCo/Pymt Gbr   \n25                                     24. Twitch Lux   \n26                                     25. PayPal Ltd   \n27                                       26. NTT Data   \n28                                     27. ATM Milano   \n29                                  28. Tenoha Milano   \n30                        29. Librerie La Feltrinelli   \n31                                           30. Muji   \n32                                                      \n33  Please note that these categories are just sug...   \n34  Sure! Here are some possible categories for ea...   \n35                                                      \n36                             1. Spotify AB by Adyen   \n37                 2. Beta Boulders Ams Amsterdam Nld   \n38                               3. LEGO Store Babila   \n\n                          Category  \n0                             None  \n1                             None  \n2                            Taxes  \n3                        Groceries  \n4                          Housing  \n5                         Shopping  \n6                      Art/Hobbies  \n7                    Entertainment  \n8                         Shopping  \n9   Business/Professional Services  \n10                         Charity  \n11                  Transportation  \n12                       Groceries  \n13                   Entertainment  \n14                 Personal Income  \n15  Business/Professional Services  \n16                          Dining  \n17                 Personal Income  \n18                Personal Finance  \n19                Personal Hobbies  \n20                  Transportation  \n21                      Technology  \n22                        Shopping  \n23                Fitness/Wellness  \n24                   Entertainment  \n25                 Personal Income  \n26                 Online Services  \n27                      Technology  \n28              Financial Services  \n29                        Shopping  \n30                     Books/Media  \n31                 Personal Income  \n32                            None  \n33                            None  \n34                            None  \n35                            None  \n36                   Entertainment  \n37                           Sport  \n38                   Hobby/Leisure  ",
      "text/html": "<div>\n<style scoped>\n    .dataframe tbody tr th:only-of-type {\n        vertical-align: middle;\n    }\n\n    .dataframe tbody tr th {\n        vertical-align: top;\n    }\n\n    .dataframe thead th {\n        text-align: right;\n    }\n</style>\n<table border=\"1\" class=\"dataframe\">\n  <thead>\n    <tr style=\"text-align: right;\">\n      <th></th>\n      <th>Transaction vs category</th>\n      <th>Transaction</th>\n      <th>Category</th>\n    </tr>\n  </thead>\n  <tbody>\n    <tr>\n      <th>0</th>\n      <td>Sure! Here are the categories for each expense:</td>\n      <td>Sure! Here are the categories for each expense:</td>\n      <td>None</td>\n    </tr>\n    <tr>\n      <th>1</th>\n      <td></td>\n      <td></td>\n      <td>None</td>\n    </tr>\n    <tr>\n      <th>2</th>\n      <td>1. Belastingdienst - Taxes</td>\n      <td>1. Belastingdienst</td>\n      <td>Taxes</td>\n    </tr>\n    <tr>\n      <th>3</th>\n      <td>2. Tesco Breda - Groceries</td>\n      <td>2. Tesco Breda</td>\n      <td>Groceries</td>\n    </tr>\n    <tr>\n      <th>4</th>\n      <td>3. Monthly Appartment Rent - Housing</td>\n      <td>3. Monthly Appartment Rent</td>\n      <td>Housing</td>\n    </tr>\n    <tr>\n      <th>5</th>\n      <td>4. Vishandel Sier Amsterdam - Shopping</td>\n      <td>4. Vishandel Sier Amsterdam</td>\n      <td>Shopping</td>\n    </tr>\n    <tr>\n      <th>6</th>\n      <td>5. Selling Paintings - Art/Hobbies</td>\n      <td>5. Selling Paintings</td>\n      <td>Art/Hobbies</td>\n    </tr>\n    <tr>\n      <th>7</th>\n      <td>6. Spotify AB by Adyen - Entertainment</td>\n      <td>6. Spotify AB by Adyen</td>\n      <td>Entertainment</td>\n    </tr>\n    <tr>\n      <th>8</th>\n      <td>7. Tk Maxx Amsterdam DA - Shopping</td>\n      <td>7. Tk Maxx Amsterdam DA</td>\n      <td>Shopping</td>\n    </tr>\n    <tr>\n      <th>9</th>\n      <td>8. Consulting - Business/Professional Services</td>\n      <td>8. Consulting</td>\n      <td>Business/Professional Services</td>\n    </tr>\n    <tr>\n      <th>10</th>\n      <td>9. Aidsfonds - Charity</td>\n      <td>9. Aidsfonds</td>\n      <td>Charity</td>\n    </tr>\n    <tr>\n      <th>11</th>\n      <td>10. TLS BV Inz Ov-Chipkaart - Transportation</td>\n      <td>10. TLS BV Inz Ov-Chipkaart</td>\n      <td>Transportation</td>\n    </tr>\n    <tr>\n      <th>12</th>\n      <td>11. Etos Amsterdam - Groceries</td>\n      <td>11. Etos Amsterdam</td>\n      <td>Groceries</td>\n    </tr>\n    <tr>\n      <th>13</th>\n      <td>12. Beta Boulders AMS Amsterdam - Entertainment</td>\n      <td>12. Beta Boulders AMS Amsterdam</td>\n      <td>Entertainment</td>\n    </tr>\n    <tr>\n      <th>14</th>\n      <td>13. Salary - Personal Income</td>\n      <td>13. Salary</td>\n      <td>Personal Income</td>\n    </tr>\n    <tr>\n      <th>15</th>\n      <td>14. Bouldermuur BV Amsterdam - Business/Profes...</td>\n      <td>14. Bouldermuur BV Amsterdam</td>\n      <td>Business/Professional Services</td>\n    </tr>\n    <tr>\n      <th>16</th>\n      <td>15. Birtat Restaurant Amsterdam - Dining</td>\n      <td>15. Birtat Restaurant Amsterdam</td>\n      <td>Dining</td>\n    </tr>\n    <tr>\n      <th>17</th>\n      <td>16. Freelancing - Personal Income</td>\n      <td>16. Freelancing</td>\n      <td>Personal Income</td>\n    </tr>\n    <tr>\n      <th>18</th>\n      <td>17. Tikkie - Personal Finance</td>\n      <td>17. Tikkie</td>\n      <td>Personal Finance</td>\n    </tr>\n    <tr>\n      <th>19</th>\n      <td>18. Blogging - Personal Hobbies</td>\n      <td>18. Blogging</td>\n      <td>Personal Hobbies</td>\n    </tr>\n    <tr>\n      <th>20</th>\n      <td>19. Taxi Utrecht - Transportation</td>\n      <td>19. Taxi Utrecht</td>\n      <td>Transportation</td>\n    </tr>\n    <tr>\n      <th>21</th>\n      <td>20. Apple Services - Technology</td>\n      <td>20. Apple Services</td>\n      <td>Technology</td>\n    </tr>\n    <tr>\n      <th>22</th>\n      <td>21. Amazon Lux - Shopping</td>\n      <td>21. Amazon Lux</td>\n      <td>Shopping</td>\n    </tr>\n    <tr>\n      <th>23</th>\n      <td>22. Classpass* Monthly - Fitness/Wellness</td>\n      <td>22. Classpass* Monthly</td>\n      <td>Fitness/Wellness</td>\n    </tr>\n    <tr>\n      <th>24</th>\n      <td>23. Audible UK AdblCo/Pymt Gbr - Entertainment</td>\n      <td>23. Audible UK AdblCo/Pymt Gbr</td>\n      <td>Entertainment</td>\n    </tr>\n    <tr>\n      <th>25</th>\n      <td>24. Twitch Lux - Personal Income</td>\n      <td>24. Twitch Lux</td>\n      <td>Personal Income</td>\n    </tr>\n    <tr>\n      <th>26</th>\n      <td>25. PayPal Ltd - Online Services</td>\n      <td>25. PayPal Ltd</td>\n      <td>Online Services</td>\n    </tr>\n    <tr>\n      <th>27</th>\n      <td>26. NTT Data - Technology</td>\n      <td>26. NTT Data</td>\n      <td>Technology</td>\n    </tr>\n    <tr>\n      <th>28</th>\n      <td>27. ATM Milano - Financial Services</td>\n      <td>27. ATM Milano</td>\n      <td>Financial Services</td>\n    </tr>\n    <tr>\n      <th>29</th>\n      <td>28. Tenoha Milano - Shopping</td>\n      <td>28. Tenoha Milano</td>\n      <td>Shopping</td>\n    </tr>\n    <tr>\n      <th>30</th>\n      <td>29. Librerie La Feltrinelli - Books/Media</td>\n      <td>29. Librerie La Feltrinelli</td>\n      <td>Books/Media</td>\n    </tr>\n    <tr>\n      <th>31</th>\n      <td>30. Muji - Personal Income</td>\n      <td>30. Muji</td>\n      <td>Personal Income</td>\n    </tr>\n    <tr>\n      <th>32</th>\n      <td></td>\n      <td></td>\n      <td>None</td>\n    </tr>\n    <tr>\n      <th>33</th>\n      <td>Please note that these categories are just sug...</td>\n      <td>Please note that these categories are just sug...</td>\n      <td>None</td>\n    </tr>\n    <tr>\n      <th>34</th>\n      <td>Sure! Here are some possible categories for ea...</td>\n      <td>Sure! Here are some possible categories for ea...</td>\n      <td>None</td>\n    </tr>\n    <tr>\n      <th>35</th>\n      <td></td>\n      <td></td>\n      <td>None</td>\n    </tr>\n    <tr>\n      <th>36</th>\n      <td>1. Spotify AB by Adyen - Entertainment</td>\n      <td>1. Spotify AB by Adyen</td>\n      <td>Entertainment</td>\n    </tr>\n    <tr>\n      <th>37</th>\n      <td>2. Beta Boulders Ams Amsterdam Nld - Sport</td>\n      <td>2. Beta Boulders Ams Amsterdam Nld</td>\n      <td>Sport</td>\n    </tr>\n    <tr>\n      <th>38</th>\n      <td>3. LEGO Store Babila - Hobby/Leisure</td>\n      <td>3. LEGO Store Babila</td>\n      <td>Hobby/Leisure</td>\n    </tr>\n  </tbody>\n</table>\n</div>"
     },
     "execution_count": 17,
     "metadata": {},
     "output_type": "execute_result"
    }
   ],
   "source": [
    "categories_df_all"
   ]
  },
  {
   "cell_type": "code",
   "execution_count": 18,
   "metadata": {
    "ExecuteTime": {
     "end_time": "2024-03-13T22:46:14.401238Z",
     "start_time": "2024-03-13T22:46:14.398704Z"
    }
   },
   "outputs": [],
   "source": [
    "# categories_df_all.to_csv(\"categories_df_all.csv\", index=False)"
   ]
  },
  {
   "cell_type": "code",
   "execution_count": 19,
   "metadata": {
    "ExecuteTime": {
     "end_time": "2024-03-13T22:46:14.406248Z",
     "start_time": "2024-03-13T22:46:14.402358Z"
    }
   },
   "outputs": [
    {
     "data": {
      "text/plain": "array([None, 'Taxes', 'Groceries', 'Housing', 'Shopping', 'Art/Hobbies',\n       'Entertainment', 'Business/Professional Services', 'Charity',\n       'Transportation', 'Personal Income', 'Dining', 'Personal Finance',\n       'Personal Hobbies', 'Technology', 'Fitness/Wellness',\n       'Online Services', 'Financial Services', 'Books/Media', 'Sport',\n       'Hobby/Leisure'], dtype=object)"
     },
     "execution_count": 19,
     "metadata": {},
     "output_type": "execute_result"
    }
   ],
   "source": [
    "# Get unique categories in categories_df_all\n",
    "unique_categories = categories_df_all[\"Category\"].unique()\n",
    "unique_categories"
   ]
  },
  {
   "cell_type": "code",
   "execution_count": 20,
   "metadata": {
    "ExecuteTime": {
     "end_time": "2024-03-13T22:46:14.414200Z",
     "start_time": "2024-03-13T22:46:14.407452Z"
    }
   },
   "outputs": [],
   "source": [
    "# Drop NA values\n",
    "categories_df_all = categories_df_all.dropna()\n",
    "\n",
    "# If category contains \"Food\", then categorise as \"Food and Drinks\"\n",
    "categories_df_all.loc[categories_df_all['Category'].str.contains(\"Food\"), 'Category'] = \"Food and Drinks\"\n",
    "# If category contains \"Clothing\", then categorise as \"Clothing\"\n",
    "categories_df_all.loc[categories_df_all['Category'].str.contains(\"Clothing\"), 'Category'] = \"Clothing\"\n",
    "# If category contains \"Services\", then categorise as \"Services\"\n",
    "categories_df_all.loc[categories_df_all['Category'].str.contains(\"Services\"), 'Category'] = \"Services\"\n",
    "# If category contains \"Health\" or \"Wellness\", then categorise as \"Health and Wellness\"\n",
    "categories_df_all.loc[categories_df_all['Category'].str.contains(\"Health|Wellness\"), 'Category'] = \"Health and Wellness\"\n",
    "# If category contains \"Sport\", then categorise as \"Sport\n",
    "#  and Fitness\"\n",
    "categories_df_all.loc[categories_df_all['Category'].str.contains(\"Sport\"), 'Category'] = \"Sport and Fitness\"\n",
    "# If category contains \"Travel\", then categorise as \"Travel\"\n",
    "categories_df_all.loc[categories_df_all['Category'].str.contains(\"Travel\"), 'Category'] = \"Travel\""
   ]
  },
  {
   "cell_type": "code",
   "execution_count": 23,
   "metadata": {
    "ExecuteTime": {
     "end_time": "2024-03-13T22:47:37.605715Z",
     "start_time": "2024-03-13T22:47:37.596018Z"
    }
   },
   "outputs": [
    {
     "name": "stderr",
     "output_type": "stream",
     "text": [
      "/tmp/ipykernel_15836/315138465.py:2: SettingWithCopyWarning: \n",
      "A value is trying to be set on a copy of a slice from a DataFrame\n",
      "\n",
      "See the caveats in the documentation: https://pandas.pydata.org/pandas-docs/stable/user_guide/indexing.html#returning-a-view-versus-a-copy\n",
      "  categories_df_all.loc['Transaction'] = categories_df_all['Transaction'].str.replace(r'\\d+\\.\\s+', '')\n"
     ]
    },
    {
     "data": {
      "text/plain": "                                       Transaction vs category  \\\n2                                   1. Belastingdienst - Taxes   \n3                                   2. Tesco Breda - Groceries   \n4                         3. Monthly Appartment Rent - Housing   \n5                       4. Vishandel Sier Amsterdam - Shopping   \n6                           5. Selling Paintings - Art/Hobbies   \n7                       6. Spotify AB by Adyen - Entertainment   \n8                           7. Tk Maxx Amsterdam DA - Shopping   \n9               8. Consulting - Business/Professional Services   \n10                                      9. Aidsfonds - Charity   \n11                10. TLS BV Inz Ov-Chipkaart - Transportation   \n12                              11. Etos Amsterdam - Groceries   \n13             12. Beta Boulders AMS Amsterdam - Entertainment   \n14                                13. Salary - Personal Income   \n15           14. Bouldermuur BV Amsterdam - Business/Profes...   \n16                    15. Birtat Restaurant Amsterdam - Dining   \n17                           16. Freelancing - Personal Income   \n18                               17. Tikkie - Personal Finance   \n19                             18. Blogging - Personal Hobbies   \n20                           19. Taxi Utrecht - Transportation   \n21                             20. Apple Services - Technology   \n22                                   21. Amazon Lux - Shopping   \n23                   22. Classpass* Monthly - Fitness/Wellness   \n24              23. Audible UK AdblCo/Pymt Gbr - Entertainment   \n25                            24. Twitch Lux - Personal Income   \n26                            25. PayPal Ltd - Online Services   \n27                                   26. NTT Data - Technology   \n28                         27. ATM Milano - Financial Services   \n29                                28. Tenoha Milano - Shopping   \n30                   29. Librerie La Feltrinelli - Books/Media   \n31                                  30. Muji - Personal Income   \n36                      1. Spotify AB by Adyen - Entertainment   \n37                  2. Beta Boulders Ams Amsterdam Nld - Sport   \n38                        3. LEGO Store Babila - Hobby/Leisure   \nTransaction                                                NaN   \n\n                                    Transaction             Category  \n2                            1. Belastingdienst                Taxes  \n3                                2. Tesco Breda            Groceries  \n4                    3. Monthly Appartment Rent              Housing  \n5                   4. Vishandel Sier Amsterdam             Shopping  \n6                          5. Selling Paintings          Art/Hobbies  \n7                        6. Spotify AB by Adyen        Entertainment  \n8                       7. Tk Maxx Amsterdam DA             Shopping  \n9                                 8. Consulting             Services  \n10                                 9. Aidsfonds              Charity  \n11                  10. TLS BV Inz Ov-Chipkaart       Transportation  \n12                           11. Etos Amsterdam            Groceries  \n13              12. Beta Boulders AMS Amsterdam        Entertainment  \n14                                   13. Salary      Personal Income  \n15                 14. Bouldermuur BV Amsterdam             Services  \n16              15. Birtat Restaurant Amsterdam               Dining  \n17                              16. Freelancing      Personal Income  \n18                                   17. Tikkie     Personal Finance  \n19                                 18. Blogging     Personal Hobbies  \n20                             19. Taxi Utrecht       Transportation  \n21                           20. Apple Services           Technology  \n22                               21. Amazon Lux             Shopping  \n23                       22. Classpass* Monthly  Health and Wellness  \n24               23. Audible UK AdblCo/Pymt Gbr        Entertainment  \n25                               24. Twitch Lux      Personal Income  \n26                               25. PayPal Ltd             Services  \n27                                 26. NTT Data           Technology  \n28                               27. ATM Milano             Services  \n29                            28. Tenoha Milano             Shopping  \n30                  29. Librerie La Feltrinelli          Books/Media  \n31                                     30. Muji      Personal Income  \n36                       1. Spotify AB by Adyen        Entertainment  \n37           2. Beta Boulders Ams Amsterdam Nld    Sport and Fitness  \n38                         3. LEGO Store Babila        Hobby/Leisure  \nTransaction                                 NaN                  NaN  ",
      "text/html": "<div>\n<style scoped>\n    .dataframe tbody tr th:only-of-type {\n        vertical-align: middle;\n    }\n\n    .dataframe tbody tr th {\n        vertical-align: top;\n    }\n\n    .dataframe thead th {\n        text-align: right;\n    }\n</style>\n<table border=\"1\" class=\"dataframe\">\n  <thead>\n    <tr style=\"text-align: right;\">\n      <th></th>\n      <th>Transaction vs category</th>\n      <th>Transaction</th>\n      <th>Category</th>\n    </tr>\n  </thead>\n  <tbody>\n    <tr>\n      <th>2</th>\n      <td>1. Belastingdienst - Taxes</td>\n      <td>1. Belastingdienst</td>\n      <td>Taxes</td>\n    </tr>\n    <tr>\n      <th>3</th>\n      <td>2. Tesco Breda - Groceries</td>\n      <td>2. Tesco Breda</td>\n      <td>Groceries</td>\n    </tr>\n    <tr>\n      <th>4</th>\n      <td>3. Monthly Appartment Rent - Housing</td>\n      <td>3. Monthly Appartment Rent</td>\n      <td>Housing</td>\n    </tr>\n    <tr>\n      <th>5</th>\n      <td>4. Vishandel Sier Amsterdam - Shopping</td>\n      <td>4. Vishandel Sier Amsterdam</td>\n      <td>Shopping</td>\n    </tr>\n    <tr>\n      <th>6</th>\n      <td>5. Selling Paintings - Art/Hobbies</td>\n      <td>5. Selling Paintings</td>\n      <td>Art/Hobbies</td>\n    </tr>\n    <tr>\n      <th>7</th>\n      <td>6. Spotify AB by Adyen - Entertainment</td>\n      <td>6. Spotify AB by Adyen</td>\n      <td>Entertainment</td>\n    </tr>\n    <tr>\n      <th>8</th>\n      <td>7. Tk Maxx Amsterdam DA - Shopping</td>\n      <td>7. Tk Maxx Amsterdam DA</td>\n      <td>Shopping</td>\n    </tr>\n    <tr>\n      <th>9</th>\n      <td>8. Consulting - Business/Professional Services</td>\n      <td>8. Consulting</td>\n      <td>Services</td>\n    </tr>\n    <tr>\n      <th>10</th>\n      <td>9. Aidsfonds - Charity</td>\n      <td>9. Aidsfonds</td>\n      <td>Charity</td>\n    </tr>\n    <tr>\n      <th>11</th>\n      <td>10. TLS BV Inz Ov-Chipkaart - Transportation</td>\n      <td>10. TLS BV Inz Ov-Chipkaart</td>\n      <td>Transportation</td>\n    </tr>\n    <tr>\n      <th>12</th>\n      <td>11. Etos Amsterdam - Groceries</td>\n      <td>11. Etos Amsterdam</td>\n      <td>Groceries</td>\n    </tr>\n    <tr>\n      <th>13</th>\n      <td>12. Beta Boulders AMS Amsterdam - Entertainment</td>\n      <td>12. Beta Boulders AMS Amsterdam</td>\n      <td>Entertainment</td>\n    </tr>\n    <tr>\n      <th>14</th>\n      <td>13. Salary - Personal Income</td>\n      <td>13. Salary</td>\n      <td>Personal Income</td>\n    </tr>\n    <tr>\n      <th>15</th>\n      <td>14. Bouldermuur BV Amsterdam - Business/Profes...</td>\n      <td>14. Bouldermuur BV Amsterdam</td>\n      <td>Services</td>\n    </tr>\n    <tr>\n      <th>16</th>\n      <td>15. Birtat Restaurant Amsterdam - Dining</td>\n      <td>15. Birtat Restaurant Amsterdam</td>\n      <td>Dining</td>\n    </tr>\n    <tr>\n      <th>17</th>\n      <td>16. Freelancing - Personal Income</td>\n      <td>16. Freelancing</td>\n      <td>Personal Income</td>\n    </tr>\n    <tr>\n      <th>18</th>\n      <td>17. Tikkie - Personal Finance</td>\n      <td>17. Tikkie</td>\n      <td>Personal Finance</td>\n    </tr>\n    <tr>\n      <th>19</th>\n      <td>18. Blogging - Personal Hobbies</td>\n      <td>18. Blogging</td>\n      <td>Personal Hobbies</td>\n    </tr>\n    <tr>\n      <th>20</th>\n      <td>19. Taxi Utrecht - Transportation</td>\n      <td>19. Taxi Utrecht</td>\n      <td>Transportation</td>\n    </tr>\n    <tr>\n      <th>21</th>\n      <td>20. Apple Services - Technology</td>\n      <td>20. Apple Services</td>\n      <td>Technology</td>\n    </tr>\n    <tr>\n      <th>22</th>\n      <td>21. Amazon Lux - Shopping</td>\n      <td>21. Amazon Lux</td>\n      <td>Shopping</td>\n    </tr>\n    <tr>\n      <th>23</th>\n      <td>22. Classpass* Monthly - Fitness/Wellness</td>\n      <td>22. Classpass* Monthly</td>\n      <td>Health and Wellness</td>\n    </tr>\n    <tr>\n      <th>24</th>\n      <td>23. Audible UK AdblCo/Pymt Gbr - Entertainment</td>\n      <td>23. Audible UK AdblCo/Pymt Gbr</td>\n      <td>Entertainment</td>\n    </tr>\n    <tr>\n      <th>25</th>\n      <td>24. Twitch Lux - Personal Income</td>\n      <td>24. Twitch Lux</td>\n      <td>Personal Income</td>\n    </tr>\n    <tr>\n      <th>26</th>\n      <td>25. PayPal Ltd - Online Services</td>\n      <td>25. PayPal Ltd</td>\n      <td>Services</td>\n    </tr>\n    <tr>\n      <th>27</th>\n      <td>26. NTT Data - Technology</td>\n      <td>26. NTT Data</td>\n      <td>Technology</td>\n    </tr>\n    <tr>\n      <th>28</th>\n      <td>27. ATM Milano - Financial Services</td>\n      <td>27. ATM Milano</td>\n      <td>Services</td>\n    </tr>\n    <tr>\n      <th>29</th>\n      <td>28. Tenoha Milano - Shopping</td>\n      <td>28. Tenoha Milano</td>\n      <td>Shopping</td>\n    </tr>\n    <tr>\n      <th>30</th>\n      <td>29. Librerie La Feltrinelli - Books/Media</td>\n      <td>29. Librerie La Feltrinelli</td>\n      <td>Books/Media</td>\n    </tr>\n    <tr>\n      <th>31</th>\n      <td>30. Muji - Personal Income</td>\n      <td>30. Muji</td>\n      <td>Personal Income</td>\n    </tr>\n    <tr>\n      <th>36</th>\n      <td>1. Spotify AB by Adyen - Entertainment</td>\n      <td>1. Spotify AB by Adyen</td>\n      <td>Entertainment</td>\n    </tr>\n    <tr>\n      <th>37</th>\n      <td>2. Beta Boulders Ams Amsterdam Nld - Sport</td>\n      <td>2. Beta Boulders Ams Amsterdam Nld</td>\n      <td>Sport and Fitness</td>\n    </tr>\n    <tr>\n      <th>38</th>\n      <td>3. LEGO Store Babila - Hobby/Leisure</td>\n      <td>3. LEGO Store Babila</td>\n      <td>Hobby/Leisure</td>\n    </tr>\n    <tr>\n      <th>Transaction</th>\n      <td>NaN</td>\n      <td>NaN</td>\n      <td>NaN</td>\n    </tr>\n  </tbody>\n</table>\n</div>"
     },
     "execution_count": 23,
     "metadata": {},
     "output_type": "execute_result"
    }
   ],
   "source": [
    "# Remove the numbering eg \"1. \" from Transaction column\n",
    "categories_df_all.loc['Transaction'] = categories_df_all['Transaction'].str.replace(r'\\d+\\.\\s+', '')\n",
    "categories_df_all"
   ]
  },
  {
   "cell_type": "code",
   "execution_count": 24,
   "metadata": {
    "ExecuteTime": {
     "end_time": "2024-03-13T22:48:34.282793Z",
     "start_time": "2024-03-13T22:48:34.269743Z"
    }
   },
   "outputs": [
    {
     "data": {
      "text/plain": "          Date           Name / Description Expense/Income  Amount (EUR)  \\\n0   2023-12-30              Belastingdienst        Expense          9.96   \n1   2023-12-30                  Tesco Breda        Expense         17.53   \n2   2023-12-30      Monthly Appartment Rent        Expense        451.00   \n3   2023-12-30     Vishandel Sier Amsterdam        Expense         12.46   \n4   2023-12-29            Selling Paintings         Income         13.63   \n5   2023-12-29          Spotify Ab By Adyen        Expense         12.19   \n6   2023-12-23         Tk Maxx Amsterdam Da        Expense         27.08   \n7   2023-12-22                   Consulting         Income        541.57   \n8   2023-12-22                    Aidsfonds        Expense         10.70   \n9   2023-12-20                   Consulting         Income       2641.93   \n10  2023-12-19      Tls Bv Inz Ov-Chipkaart        Expense         18.90   \n11  2023-12-18               Etos Amsterdam        Expense         17.67   \n12  2023-12-18                  Tesco Breda        Expense          8.81   \n13  2023-12-18  Beta Boulders Ams Amsterdam        Expense          6.94   \n14  2022-11-26                       Salary         Income         14.36   \n15  2022-11-26     Bouldermuur Bv Amsterdam        Expense         19.27   \n16  2022-11-26  Birtat Restaurant Amsterdam        Expense         24.71   \n17  2022-11-25                  Tesco Breda        Expense         17.35   \n18  2022-11-24                  Freelancing         Income       2409.55   \n19  2022-11-19                       Tikkie        Expense         20.76   \n20  2022-10-25                     Blogging         Income       4044.27   \n21  2022-10-24                 Taxi Utrecht        Expense         18.90   \n22  2022-10-23                  Tesco Breda        Expense         27.54   \n23  2022-10-22               Apple Services        Expense         41.25   \n24  2022-10-21                  Tesco Breda        Expense         22.80   \n25  2022-01-16                   Amazon Lux        Expense         24.11   \n26  2022-01-15           Classpass* Monthly        Expense         30.08   \n27  2022-01-14   Audible Uk AdblCo/Pymt Gbr        Expense         11.00   \n28  2022-02-03                   Twitch Lux        Expense          3.99   \n29  2022-02-15                   PayPal ltd        Expense         14.99   \n30  2022-02-20                     NTT Data         Income        579.64   \n31  2022-02-22                   ATM Milano        Expense          4.00   \n32  2022-02-22                Tenoha Milano        Expense         28.50   \n33  2022-02-22      Librerie La Feltrinelli        Expense         19.90   \n34  2022-02-22                         Muji        Expense         18.58   \n35  2022-02-22            LEGO Store Babila        Expense        129.90   \n36  2022-02-03                   Twitch Lux        Expense          3.99   \n37  2022-02-15                   PayPal ltd        Expense         14.99   \n38  2022-02-20                     NTT Data         Income        579.64   \n39  2022-02-22                   ATM Milano        Expense          4.00   \n40  2022-02-22                Tenoha Milano        Expense         28.50   \n41  2022-02-22      Librerie La Feltrinelli        Expense         19.90   \n42  2022-02-22                         Muji        Expense         18.58   \n43  2022-02-22            LEGO Store Babila        Expense        129.90   \n\n   Transaction vs category Transaction Category  \n0                      NaN         NaN      NaN  \n1                      NaN         NaN      NaN  \n2                      NaN         NaN      NaN  \n3                      NaN         NaN      NaN  \n4                      NaN         NaN      NaN  \n5                      NaN         NaN      NaN  \n6                      NaN         NaN      NaN  \n7                      NaN         NaN      NaN  \n8                      NaN         NaN      NaN  \n9                      NaN         NaN      NaN  \n10                     NaN         NaN      NaN  \n11                     NaN         NaN      NaN  \n12                     NaN         NaN      NaN  \n13                     NaN         NaN      NaN  \n14                     NaN         NaN      NaN  \n15                     NaN         NaN      NaN  \n16                     NaN         NaN      NaN  \n17                     NaN         NaN      NaN  \n18                     NaN         NaN      NaN  \n19                     NaN         NaN      NaN  \n20                     NaN         NaN      NaN  \n21                     NaN         NaN      NaN  \n22                     NaN         NaN      NaN  \n23                     NaN         NaN      NaN  \n24                     NaN         NaN      NaN  \n25                     NaN         NaN      NaN  \n26                     NaN         NaN      NaN  \n27                     NaN         NaN      NaN  \n28                     NaN         NaN      NaN  \n29                     NaN         NaN      NaN  \n30                     NaN         NaN      NaN  \n31                     NaN         NaN      NaN  \n32                     NaN         NaN      NaN  \n33                     NaN         NaN      NaN  \n34                     NaN         NaN      NaN  \n35                     NaN         NaN      NaN  \n36                     NaN         NaN      NaN  \n37                     NaN         NaN      NaN  \n38                     NaN         NaN      NaN  \n39                     NaN         NaN      NaN  \n40                     NaN         NaN      NaN  \n41                     NaN         NaN      NaN  \n42                     NaN         NaN      NaN  \n43                     NaN         NaN      NaN  ",
      "text/html": "<div>\n<style scoped>\n    .dataframe tbody tr th:only-of-type {\n        vertical-align: middle;\n    }\n\n    .dataframe tbody tr th {\n        vertical-align: top;\n    }\n\n    .dataframe thead th {\n        text-align: right;\n    }\n</style>\n<table border=\"1\" class=\"dataframe\">\n  <thead>\n    <tr style=\"text-align: right;\">\n      <th></th>\n      <th>Date</th>\n      <th>Name / Description</th>\n      <th>Expense/Income</th>\n      <th>Amount (EUR)</th>\n      <th>Transaction vs category</th>\n      <th>Transaction</th>\n      <th>Category</th>\n    </tr>\n  </thead>\n  <tbody>\n    <tr>\n      <th>0</th>\n      <td>2023-12-30</td>\n      <td>Belastingdienst</td>\n      <td>Expense</td>\n      <td>9.96</td>\n      <td>NaN</td>\n      <td>NaN</td>\n      <td>NaN</td>\n    </tr>\n    <tr>\n      <th>1</th>\n      <td>2023-12-30</td>\n      <td>Tesco Breda</td>\n      <td>Expense</td>\n      <td>17.53</td>\n      <td>NaN</td>\n      <td>NaN</td>\n      <td>NaN</td>\n    </tr>\n    <tr>\n      <th>2</th>\n      <td>2023-12-30</td>\n      <td>Monthly Appartment Rent</td>\n      <td>Expense</td>\n      <td>451.00</td>\n      <td>NaN</td>\n      <td>NaN</td>\n      <td>NaN</td>\n    </tr>\n    <tr>\n      <th>3</th>\n      <td>2023-12-30</td>\n      <td>Vishandel Sier Amsterdam</td>\n      <td>Expense</td>\n      <td>12.46</td>\n      <td>NaN</td>\n      <td>NaN</td>\n      <td>NaN</td>\n    </tr>\n    <tr>\n      <th>4</th>\n      <td>2023-12-29</td>\n      <td>Selling Paintings</td>\n      <td>Income</td>\n      <td>13.63</td>\n      <td>NaN</td>\n      <td>NaN</td>\n      <td>NaN</td>\n    </tr>\n    <tr>\n      <th>5</th>\n      <td>2023-12-29</td>\n      <td>Spotify Ab By Adyen</td>\n      <td>Expense</td>\n      <td>12.19</td>\n      <td>NaN</td>\n      <td>NaN</td>\n      <td>NaN</td>\n    </tr>\n    <tr>\n      <th>6</th>\n      <td>2023-12-23</td>\n      <td>Tk Maxx Amsterdam Da</td>\n      <td>Expense</td>\n      <td>27.08</td>\n      <td>NaN</td>\n      <td>NaN</td>\n      <td>NaN</td>\n    </tr>\n    <tr>\n      <th>7</th>\n      <td>2023-12-22</td>\n      <td>Consulting</td>\n      <td>Income</td>\n      <td>541.57</td>\n      <td>NaN</td>\n      <td>NaN</td>\n      <td>NaN</td>\n    </tr>\n    <tr>\n      <th>8</th>\n      <td>2023-12-22</td>\n      <td>Aidsfonds</td>\n      <td>Expense</td>\n      <td>10.70</td>\n      <td>NaN</td>\n      <td>NaN</td>\n      <td>NaN</td>\n    </tr>\n    <tr>\n      <th>9</th>\n      <td>2023-12-20</td>\n      <td>Consulting</td>\n      <td>Income</td>\n      <td>2641.93</td>\n      <td>NaN</td>\n      <td>NaN</td>\n      <td>NaN</td>\n    </tr>\n    <tr>\n      <th>10</th>\n      <td>2023-12-19</td>\n      <td>Tls Bv Inz Ov-Chipkaart</td>\n      <td>Expense</td>\n      <td>18.90</td>\n      <td>NaN</td>\n      <td>NaN</td>\n      <td>NaN</td>\n    </tr>\n    <tr>\n      <th>11</th>\n      <td>2023-12-18</td>\n      <td>Etos Amsterdam</td>\n      <td>Expense</td>\n      <td>17.67</td>\n      <td>NaN</td>\n      <td>NaN</td>\n      <td>NaN</td>\n    </tr>\n    <tr>\n      <th>12</th>\n      <td>2023-12-18</td>\n      <td>Tesco Breda</td>\n      <td>Expense</td>\n      <td>8.81</td>\n      <td>NaN</td>\n      <td>NaN</td>\n      <td>NaN</td>\n    </tr>\n    <tr>\n      <th>13</th>\n      <td>2023-12-18</td>\n      <td>Beta Boulders Ams Amsterdam</td>\n      <td>Expense</td>\n      <td>6.94</td>\n      <td>NaN</td>\n      <td>NaN</td>\n      <td>NaN</td>\n    </tr>\n    <tr>\n      <th>14</th>\n      <td>2022-11-26</td>\n      <td>Salary</td>\n      <td>Income</td>\n      <td>14.36</td>\n      <td>NaN</td>\n      <td>NaN</td>\n      <td>NaN</td>\n    </tr>\n    <tr>\n      <th>15</th>\n      <td>2022-11-26</td>\n      <td>Bouldermuur Bv Amsterdam</td>\n      <td>Expense</td>\n      <td>19.27</td>\n      <td>NaN</td>\n      <td>NaN</td>\n      <td>NaN</td>\n    </tr>\n    <tr>\n      <th>16</th>\n      <td>2022-11-26</td>\n      <td>Birtat Restaurant Amsterdam</td>\n      <td>Expense</td>\n      <td>24.71</td>\n      <td>NaN</td>\n      <td>NaN</td>\n      <td>NaN</td>\n    </tr>\n    <tr>\n      <th>17</th>\n      <td>2022-11-25</td>\n      <td>Tesco Breda</td>\n      <td>Expense</td>\n      <td>17.35</td>\n      <td>NaN</td>\n      <td>NaN</td>\n      <td>NaN</td>\n    </tr>\n    <tr>\n      <th>18</th>\n      <td>2022-11-24</td>\n      <td>Freelancing</td>\n      <td>Income</td>\n      <td>2409.55</td>\n      <td>NaN</td>\n      <td>NaN</td>\n      <td>NaN</td>\n    </tr>\n    <tr>\n      <th>19</th>\n      <td>2022-11-19</td>\n      <td>Tikkie</td>\n      <td>Expense</td>\n      <td>20.76</td>\n      <td>NaN</td>\n      <td>NaN</td>\n      <td>NaN</td>\n    </tr>\n    <tr>\n      <th>20</th>\n      <td>2022-10-25</td>\n      <td>Blogging</td>\n      <td>Income</td>\n      <td>4044.27</td>\n      <td>NaN</td>\n      <td>NaN</td>\n      <td>NaN</td>\n    </tr>\n    <tr>\n      <th>21</th>\n      <td>2022-10-24</td>\n      <td>Taxi Utrecht</td>\n      <td>Expense</td>\n      <td>18.90</td>\n      <td>NaN</td>\n      <td>NaN</td>\n      <td>NaN</td>\n    </tr>\n    <tr>\n      <th>22</th>\n      <td>2022-10-23</td>\n      <td>Tesco Breda</td>\n      <td>Expense</td>\n      <td>27.54</td>\n      <td>NaN</td>\n      <td>NaN</td>\n      <td>NaN</td>\n    </tr>\n    <tr>\n      <th>23</th>\n      <td>2022-10-22</td>\n      <td>Apple Services</td>\n      <td>Expense</td>\n      <td>41.25</td>\n      <td>NaN</td>\n      <td>NaN</td>\n      <td>NaN</td>\n    </tr>\n    <tr>\n      <th>24</th>\n      <td>2022-10-21</td>\n      <td>Tesco Breda</td>\n      <td>Expense</td>\n      <td>22.80</td>\n      <td>NaN</td>\n      <td>NaN</td>\n      <td>NaN</td>\n    </tr>\n    <tr>\n      <th>25</th>\n      <td>2022-01-16</td>\n      <td>Amazon Lux</td>\n      <td>Expense</td>\n      <td>24.11</td>\n      <td>NaN</td>\n      <td>NaN</td>\n      <td>NaN</td>\n    </tr>\n    <tr>\n      <th>26</th>\n      <td>2022-01-15</td>\n      <td>Classpass* Monthly</td>\n      <td>Expense</td>\n      <td>30.08</td>\n      <td>NaN</td>\n      <td>NaN</td>\n      <td>NaN</td>\n    </tr>\n    <tr>\n      <th>27</th>\n      <td>2022-01-14</td>\n      <td>Audible Uk AdblCo/Pymt Gbr</td>\n      <td>Expense</td>\n      <td>11.00</td>\n      <td>NaN</td>\n      <td>NaN</td>\n      <td>NaN</td>\n    </tr>\n    <tr>\n      <th>28</th>\n      <td>2022-02-03</td>\n      <td>Twitch Lux</td>\n      <td>Expense</td>\n      <td>3.99</td>\n      <td>NaN</td>\n      <td>NaN</td>\n      <td>NaN</td>\n    </tr>\n    <tr>\n      <th>29</th>\n      <td>2022-02-15</td>\n      <td>PayPal ltd</td>\n      <td>Expense</td>\n      <td>14.99</td>\n      <td>NaN</td>\n      <td>NaN</td>\n      <td>NaN</td>\n    </tr>\n    <tr>\n      <th>30</th>\n      <td>2022-02-20</td>\n      <td>NTT Data</td>\n      <td>Income</td>\n      <td>579.64</td>\n      <td>NaN</td>\n      <td>NaN</td>\n      <td>NaN</td>\n    </tr>\n    <tr>\n      <th>31</th>\n      <td>2022-02-22</td>\n      <td>ATM Milano</td>\n      <td>Expense</td>\n      <td>4.00</td>\n      <td>NaN</td>\n      <td>NaN</td>\n      <td>NaN</td>\n    </tr>\n    <tr>\n      <th>32</th>\n      <td>2022-02-22</td>\n      <td>Tenoha Milano</td>\n      <td>Expense</td>\n      <td>28.50</td>\n      <td>NaN</td>\n      <td>NaN</td>\n      <td>NaN</td>\n    </tr>\n    <tr>\n      <th>33</th>\n      <td>2022-02-22</td>\n      <td>Librerie La Feltrinelli</td>\n      <td>Expense</td>\n      <td>19.90</td>\n      <td>NaN</td>\n      <td>NaN</td>\n      <td>NaN</td>\n    </tr>\n    <tr>\n      <th>34</th>\n      <td>2022-02-22</td>\n      <td>Muji</td>\n      <td>Expense</td>\n      <td>18.58</td>\n      <td>NaN</td>\n      <td>NaN</td>\n      <td>NaN</td>\n    </tr>\n    <tr>\n      <th>35</th>\n      <td>2022-02-22</td>\n      <td>LEGO Store Babila</td>\n      <td>Expense</td>\n      <td>129.90</td>\n      <td>NaN</td>\n      <td>NaN</td>\n      <td>NaN</td>\n    </tr>\n    <tr>\n      <th>36</th>\n      <td>2022-02-03</td>\n      <td>Twitch Lux</td>\n      <td>Expense</td>\n      <td>3.99</td>\n      <td>NaN</td>\n      <td>NaN</td>\n      <td>NaN</td>\n    </tr>\n    <tr>\n      <th>37</th>\n      <td>2022-02-15</td>\n      <td>PayPal ltd</td>\n      <td>Expense</td>\n      <td>14.99</td>\n      <td>NaN</td>\n      <td>NaN</td>\n      <td>NaN</td>\n    </tr>\n    <tr>\n      <th>38</th>\n      <td>2022-02-20</td>\n      <td>NTT Data</td>\n      <td>Income</td>\n      <td>579.64</td>\n      <td>NaN</td>\n      <td>NaN</td>\n      <td>NaN</td>\n    </tr>\n    <tr>\n      <th>39</th>\n      <td>2022-02-22</td>\n      <td>ATM Milano</td>\n      <td>Expense</td>\n      <td>4.00</td>\n      <td>NaN</td>\n      <td>NaN</td>\n      <td>NaN</td>\n    </tr>\n    <tr>\n      <th>40</th>\n      <td>2022-02-22</td>\n      <td>Tenoha Milano</td>\n      <td>Expense</td>\n      <td>28.50</td>\n      <td>NaN</td>\n      <td>NaN</td>\n      <td>NaN</td>\n    </tr>\n    <tr>\n      <th>41</th>\n      <td>2022-02-22</td>\n      <td>Librerie La Feltrinelli</td>\n      <td>Expense</td>\n      <td>19.90</td>\n      <td>NaN</td>\n      <td>NaN</td>\n      <td>NaN</td>\n    </tr>\n    <tr>\n      <th>42</th>\n      <td>2022-02-22</td>\n      <td>Muji</td>\n      <td>Expense</td>\n      <td>18.58</td>\n      <td>NaN</td>\n      <td>NaN</td>\n      <td>NaN</td>\n    </tr>\n    <tr>\n      <th>43</th>\n      <td>2022-02-22</td>\n      <td>LEGO Store Babila</td>\n      <td>Expense</td>\n      <td>129.90</td>\n      <td>NaN</td>\n      <td>NaN</td>\n      <td>NaN</td>\n    </tr>\n  </tbody>\n</table>\n</div>"
     },
     "execution_count": 24,
     "metadata": {},
     "output_type": "execute_result"
    }
   ],
   "source": [
    "# Merge the categories_df_all with the transactions_2022_2023.csv dataframe (df)\n",
    "df = pd.read_csv(\"/mnt/f/Progetti/local-llms-analyse/\"+\"transactions_2022_2023.csv\")\n",
    "df.loc[df['Name / Description'].str.contains(\"Spotify\"), 'Name / Description'] = \"Spotify Ab By Adyen\"\n",
    "df = pd.merge(df, categories_df_all, left_on='Name / Description', right_on='Transaction', how='left')\n",
    "df"
   ]
  },
  {
   "cell_type": "code",
   "execution_count": 26,
   "metadata": {
    "ExecuteTime": {
     "end_time": "2024-03-13T22:48:53.882744Z",
     "start_time": "2024-03-13T22:48:53.871627Z"
    }
   },
   "outputs": [],
   "source": [
    "df.to_csv(\"/mnt/f/Progetti/local-llms-analyse/nv_\"+\"transactions_2022_2023_categorized.csv\", index=False)"
   ]
  }
 ],
 "metadata": {
  "kernelspec": {
   "display_name": "Python 3",
   "language": "python",
   "name": "python3"
  },
  "language_info": {
   "codemirror_mode": {
    "name": "ipython",
    "version": 3
   },
   "file_extension": ".py",
   "mimetype": "text/x-python",
   "name": "python",
   "nbconvert_exporter": "python",
   "pygments_lexer": "ipython3",
   "version": "3.10.6"
  }
 },
 "nbformat": 4,
 "nbformat_minor": 2
}

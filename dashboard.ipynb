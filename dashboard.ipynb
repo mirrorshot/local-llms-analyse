{
 "cells": [
  {
   "cell_type": "code",
   "execution_count": null,
   "metadata": {},
   "outputs": [],
   "source": [
    "# !pip install plotly panel"
   ]
  },
  {
   "cell_type": "code",
   "execution_count": null,
   "metadata": {},
   "outputs": [],
   "source": [
    "import pandas as pd\n",
    "import numpy as np\n",
    "import plotly.express as px\n",
    "import panel as pn\n",
    "from pandas import DataFrame\n",
    "\n",
    "base_path = \".\""
   ]
  },
  {
   "cell_type": "code",
   "outputs": [],
   "source": [
    "base_path = \"/mnt/f/Progetti/local-llms-analyse\""
   ],
   "metadata": {
    "collapsed": false
   },
   "execution_count": null
  },
  {
   "cell_type": "markdown",
   "metadata": {},
   "source": [
    "### Read transaction data with categories"
   ]
  },
  {
   "cell_type": "code",
   "execution_count": null,
   "metadata": {},
   "outputs": [],
   "source": [
    "# Read transactions_2022_2023_categorized.csv\n",
    "categorized_transactions_data: DataFrame = pd.read_csv(base_path + '/transactions_2022_2023_categorized.csv')\n",
    "# Add year and month columns\n",
    "categorized_transactions_data[\"Year\"] = pd.to_datetime(categorized_transactions_data[\"Date\"]).dt.year\n",
    "categorized_transactions_data[\"Month\"] = pd.to_datetime(categorized_transactions_data[\"Date\"]).dt.month\n",
    "categorized_transactions_data[\"Month Name\"] = pd.to_datetime(categorized_transactions_data[\"Date\"]).dt.strftime(\"%b\")\n",
    "# Remove \"Transaction\" and \"Transaction vs category\" columns\n",
    "categorized_transactions_data"
   ]
  },
  {
   "cell_type": "code",
   "execution_count": null,
   "metadata": {},
   "outputs": [],
   "source": [
    "# For Income rows, assign Name / Description to Category\n",
    "categorized_transactions_data[\"Category\"] = np.where(\n",
    "    categorized_transactions_data[\"Expense/Income\"] == \"Income\",\n",
    "    categorized_transactions_data[\"Name / Description\"],\n",
    "    categorized_transactions_data[\"Category\"]\n",
    ")\n",
    "categorized_transactions_data"
   ]
  },
  {
   "cell_type": "markdown",
   "metadata": {},
   "source": [
    "### Make pie charts - Income/ Expense breakdown"
   ]
  },
  {
   "cell_type": "code",
   "execution_count": null,
   "metadata": {},
   "outputs": [],
   "source": [
    "def make_pie_chart(data_frame, year, label):\n",
    "    # Filter the dataset for expense transactions\n",
    "    sub_df = data_frame[(data_frame[\"Expense/Income\"] == label) & (data_frame[\"Year\"] == year)]\n",
    "\n",
    "    color_scale = px.colors.qualitative.Set2\n",
    "\n",
    "    pie_fig = px.pie(sub_df, values=\"Amount (EUR)\", names=\"Category\", color_discrete_sequence=color_scale)\n",
    "    pie_fig.update_traces(textposition=\"inside\", direction=\"clockwise\", hole=0.3, textinfo=\"label+percent\")\n",
    "\n",
    "    total_expense = data_frame[(data_frame[\"Expense/Income\"] == \"Expense\") & (data_frame[\"Year\"] == year)][\n",
    "        \"Amount (EUR)\"].sum()\n",
    "    total_income = data_frame[(data_frame[\"Expense/Income\"] == \"Income\") & (data_frame[\"Year\"] == year)][\n",
    "        \"Amount (EUR)\"].sum()\n",
    "\n",
    "    if label == \"Expense\":\n",
    "        total_text = f\"€ {round(total_expense)}\"\n",
    "\n",
    "        # Saving rate:\n",
    "        saving_rate = round((total_income - total_expense) / total_income * 100)\n",
    "        saving_rate_text = f\": Saving rate {saving_rate}%\"\n",
    "    else:\n",
    "        saving_rate_text = \"\"\n",
    "        total_text = f\"€ {round(total_income)}\"\n",
    "\n",
    "    pie_fig.update_layout(\n",
    "        uniformtext_minsize=10,\n",
    "        uniformtext_mode=\"hide\",\n",
    "        title=dict(text=f\"{label} Breakdown {year} {saving_rate_text}\"),\n",
    "        # Add annotations in the center of the donut.\n",
    "        annotations=[\n",
    "            dict(\n",
    "                text=total_text,\n",
    "                # Square unit grid starting at bottom left of page\n",
    "                x=0.5,\n",
    "                y=0.5,\n",
    "                font_size=12,\n",
    "                # Hide the arrow that points to the [x,y] coordinate\n",
    "                showarrow=False\n",
    "            )\n",
    "        ]\n",
    "    )\n",
    "    return pie_fig"
   ]
  },
  {
   "cell_type": "code",
   "execution_count": null,
   "metadata": {},
   "outputs": [],
   "source": [
    "income_pie_fig_2022 = make_pie_chart(categorized_transactions_data, 2022, 'Income')\n",
    "income_pie_fig_2022"
   ]
  },
  {
   "cell_type": "markdown",
   "metadata": {},
   "source": [
    "### Make bar charts over months in a year"
   ]
  },
  {
   "cell_type": "code",
   "execution_count": null,
   "metadata": {},
   "outputs": [],
   "source": [
    "color_scales = {\n",
    "    \"Income\": px.colors.sequential.YlGn,\n",
    "    \"Expense\": px.colors.sequential.OrRd,\n",
    "}\n",
    "def make_monthly_bar_chart(data_frame: DataFrame, year, label):\n",
    "    data_frame = data_frame[(data_frame[\"Expense/Income\"] == label) & (data_frame[\"Year\"] == year)]\n",
    "    total_by_month = (data_frame.groupby([\"Month\", \"Month Name\"])[\"Amount (EUR)\"].sum()\n",
    "                      .to_frame()\n",
    "                      .reset_index()\n",
    "                      .sort_values(by=\"Month\")\n",
    "                      .reset_index(drop=True))\n",
    "    \n",
    "    \n",
    "    bar_fig = px.bar(total_by_month, x=\"Month Name\", y=\"Amount (EUR)\", text_auto=\".2s\", title=f\"{label} per month\",\n",
    "                     color=\"Amount (EUR)\", color_continuous_scale=color_scales[label])\n",
    "    # bar_fig.update_traces(marker_color='lightslategrey')\n",
    "\n",
    "    return bar_fig"
   ]
  },
  {
   "cell_type": "code",
   "execution_count": null,
   "metadata": {},
   "outputs": [],
   "source": [
    "income_monthly_2022 = make_monthly_bar_chart(categorized_transactions_data, 2022, \"Income\")\n",
    "income_monthly_2022"
   ]
  },
  {
   "cell_type": "markdown",
   "metadata": {},
   "source": [
    "### Putting all charts together into tabs for 2022/2023"
   ]
  },
  {
   "cell_type": "code",
   "execution_count": null,
   "metadata": {},
   "outputs": [],
   "source": [
    "# Pie charts\n",
    "income_pie_fig_2022 = make_pie_chart(categorized_transactions_data, 2022, \"Income\")\n",
    "expense_pie_fig_2022 = make_pie_chart(categorized_transactions_data, 2022, \"Expense\")\n",
    "income_pie_fig_2023 = make_pie_chart(categorized_transactions_data, 2023, \"Income\")\n",
    "expense_pie_fig_2023 = make_pie_chart(categorized_transactions_data, 2023, \"Expense\")\n",
    "\n",
    "# Bar charts\n",
    "income_monthly_2022 = make_monthly_bar_chart(categorized_transactions_data, 2022, \"Income\")\n",
    "expense_monthly_2022 = make_monthly_bar_chart(categorized_transactions_data, 2022, \"Expense\")\n",
    "income_monthly_2023 = make_monthly_bar_chart(categorized_transactions_data, 2023, \"Income\")\n",
    "expense_monthly_2023 = make_monthly_bar_chart(categorized_transactions_data, 2023, \"Expense\")\n",
    "\n",
    "# Create tabs\n",
    "tabs = pn.Tabs(\n",
    "    (\n",
    "        \"2022\",\n",
    "        pn.Column(\n",
    "            pn.Row(\n",
    "                income_pie_fig_2022,\n",
    "                expense_pie_fig_2022\n",
    "            ),\n",
    "            pn.Row(\n",
    "                income_monthly_2022,\n",
    "                expense_monthly_2022\n",
    "            )\n",
    "        )\n",
    "    ),\n",
    "    (\n",
    "        \"2023\",\n",
    "        pn.Column(\n",
    "            pn.Row(\n",
    "                income_pie_fig_2023,\n",
    "                expense_pie_fig_2023\n",
    "            ),\n",
    "            pn.Row(\n",
    "                income_monthly_2023,\n",
    "                expense_monthly_2023\n",
    "            )\n",
    "        )\n",
    "    )\n",
    ")\n",
    "tabs.show()"
   ]
  },
  {
   "cell_type": "markdown",
   "metadata": {},
   "source": [
    "### Create dashboard"
   ]
  },
  {
   "cell_type": "code",
   "outputs": [],
   "source": [
    "# Dashboard template\n",
    "template = pn.template.FastListTemplate(\n",
    "    title=\"Personal Finance Dashboard\",\n",
    "    sidebar=[\n",
    "        pn.pane.Markdown(\"# Income Expense analysis\"),\n",
    "        pn.pane.Markdown(\n",
    "            \"Overview of income and expense based on my bank transactions. Categories are obtained using local LLMs.\"),\n",
    "        pn.pane.PNG(\"picture.png\", sizing_mode=\"scale_both\")\n",
    "    ],\n",
    "    main=[\n",
    "        pn.Row(\n",
    "            pn.Column(\n",
    "                pn.Row(tabs)\n",
    "            )\n",
    "        ),\n",
    "    ],\n",
    "    # accent_base_color=\"#88d8b0\",\n",
    "    header_background=\"#c0b9dd\",\n",
    ")\n",
    "\n",
    "template.show()"
   ],
   "metadata": {
    "collapsed": false
   },
   "execution_count": null
  }
 ],
 "metadata": {
  "kernelspec": {
   "display_name": "Python 3",
   "language": "python",
   "name": "python3"
  },
  "language_info": {
   "codemirror_mode": {
    "name": "ipython",
    "version": 3
   },
   "file_extension": ".py",
   "mimetype": "text/x-python",
   "name": "python",
   "nbconvert_exporter": "python",
   "pygments_lexer": "ipython3",
   "version": "3.10.6"
  }
 },
 "nbformat": 4,
 "nbformat_minor": 2
}

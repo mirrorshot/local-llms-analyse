{
 "cells": [
  {
   "cell_type": "code",
   "execution_count": 32,
   "metadata": {
    "ExecuteTime": {
     "end_time": "2024-03-13T22:50:14.803604Z",
     "start_time": "2024-03-13T22:50:14.800820Z"
    }
   },
   "outputs": [],
   "source": [
    "# !pip3 install langchain_community"
   ]
  },
  {
   "cell_type": "code",
   "execution_count": 33,
   "metadata": {
    "ExecuteTime": {
     "end_time": "2024-03-13T22:50:14.813015Z",
     "start_time": "2024-03-13T22:50:14.809987Z"
    }
   },
   "outputs": [],
   "source": [
    "from langchain_community.llms import Ollama\n",
    "\n",
    "is_test = False\n",
    "base_path = \".\"\n",
    "ollama_url = \"http://localhost:11434\"\n",
    "ollama_model = \"llama2\""
   ]
  },
  {
   "cell_type": "code",
   "outputs": [
    {
     "name": "stdout",
     "output_type": "stream",
     "text": [
      "Ollama URL: http://172.21.98.127:11434\n"
     ]
    }
   ],
   "source": [
    "import os\n",
    "import dotenv\n",
    "\n",
    "base_path = \"/mnt/f/Progetti/local-llms-analyse\"\n",
    "dotenv.load_dotenv(base_path + \"/.env\")\n",
    "\n",
    "ollama_url = os.environ[\"OLLAMA_URL\"]\n",
    "ollama_model = os.environ[\"OLLAMA_MODEL\"]\n",
    "\n",
    "print(f\"Ollama URL: {ollama_url}\")"
   ],
   "metadata": {
    "collapsed": false,
    "ExecuteTime": {
     "end_time": "2024-03-13T22:50:14.826126Z",
     "start_time": "2024-03-13T22:50:14.820321Z"
    }
   },
   "execution_count": 34
  },
  {
   "cell_type": "code",
   "outputs": [
    {
     "name": "stdout",
     "output_type": "stream",
     "text": [
      "call status: 200\n",
      "call headers: {'Content-Type': 'text/plain; charset=utf-8', 'Date': 'Wed, 13 Mar 2024 22:50:14 GMT', 'Content-Length': '17'}\n",
      "b'Ollama is running'\n"
     ]
    }
   ],
   "source": [
    "import requests\n",
    "\n",
    "test_call = requests.get(ollama_url)\n",
    "print(f\"call status: {test_call.status_code}\")\n",
    "print(f\"call headers: {test_call.headers}\")\n",
    "print(test_call.content)"
   ],
   "metadata": {
    "collapsed": false,
    "ExecuteTime": {
     "end_time": "2024-03-13T22:50:14.845574Z",
     "start_time": "2024-03-13T22:50:14.840342Z"
    }
   },
   "execution_count": 35
  },
  {
   "cell_type": "code",
   "execution_count": 36,
   "metadata": {
    "ExecuteTime": {
     "end_time": "2024-03-13T22:50:14.850664Z",
     "start_time": "2024-03-13T22:50:14.847252Z"
    }
   },
   "outputs": [],
   "source": [
    "llm = Ollama(model=ollama_model, base_url=ollama_url)"
   ]
  },
  {
   "cell_type": "code",
   "outputs": [],
   "source": [
    "test_llm_response = None\n",
    "if is_test:\n",
    "    test_llm_response = llm.invoke(\"The first man on the moon was ...\")\n",
    "test_llm_response"
   ],
   "metadata": {
    "collapsed": false,
    "ExecuteTime": {
     "end_time": "2024-03-13T22:50:14.861642Z",
     "start_time": "2024-03-13T22:50:14.858943Z"
    }
   },
   "execution_count": 37
  },
  {
   "cell_type": "code",
   "execution_count": 38,
   "metadata": {
    "ExecuteTime": {
     "end_time": "2024-03-13T22:50:14.866247Z",
     "start_time": "2024-03-13T22:50:14.863042Z"
    }
   },
   "outputs": [],
   "source": [
    "test_categorization_response = None\n",
    "if is_test:\n",
    "    test_categorization_response = llm.invoke(\n",
    "        \"\"\"Can you add an appropriate category next to each of the following expenses.  \n",
    "        Respond with a list of categories separated by commas. \n",
    "        For example: \n",
    "        Spotify AB by Adyen - Entertainment, \n",
    "        Beta Boulders Ams Amsterdam Nld - Sports, \n",
    "        etc. \n",
    "        Consider this expenses: \n",
    "        ISS Catering Services De Meern, \n",
    "        Vishandel Sier AMSTELVEEN, \n",
    "        Ministerie van Justitie en Veiligheid, \n",
    "        Etos AMSTERDAM NLD, \n",
    "        Bistro Bar Amsterdam\n",
    "        \"\"\"\n",
    "    )\n",
    "\n",
    "test_categorization_response"
   ]
  },
  {
   "cell_type": "markdown",
   "metadata": {},
   "source": [
    "### Read transaction data"
   ]
  },
  {
   "cell_type": "code",
   "execution_count": 39,
   "metadata": {
    "ExecuteTime": {
     "end_time": "2024-03-13T22:50:14.901968Z",
     "start_time": "2024-03-13T22:50:14.892366Z"
    }
   },
   "outputs": [
    {
     "data": {
      "text/plain": "         Date        Name / Description Expense/Income  Amount (EUR)\n0  2023-12-30           Belastingdienst        Expense          9.96\n1  2023-12-30               Tesco Breda        Expense         17.53\n2  2023-12-30   Monthly Appartment Rent        Expense        451.00\n3  2023-12-30  Vishandel Sier Amsterdam        Expense         12.46\n4  2023-12-29         Selling Paintings         Income         13.63",
      "text/html": "<div>\n<style scoped>\n    .dataframe tbody tr th:only-of-type {\n        vertical-align: middle;\n    }\n\n    .dataframe tbody tr th {\n        vertical-align: top;\n    }\n\n    .dataframe thead th {\n        text-align: right;\n    }\n</style>\n<table border=\"1\" class=\"dataframe\">\n  <thead>\n    <tr style=\"text-align: right;\">\n      <th></th>\n      <th>Date</th>\n      <th>Name / Description</th>\n      <th>Expense/Income</th>\n      <th>Amount (EUR)</th>\n    </tr>\n  </thead>\n  <tbody>\n    <tr>\n      <th>0</th>\n      <td>2023-12-30</td>\n      <td>Belastingdienst</td>\n      <td>Expense</td>\n      <td>9.96</td>\n    </tr>\n    <tr>\n      <th>1</th>\n      <td>2023-12-30</td>\n      <td>Tesco Breda</td>\n      <td>Expense</td>\n      <td>17.53</td>\n    </tr>\n    <tr>\n      <th>2</th>\n      <td>2023-12-30</td>\n      <td>Monthly Appartment Rent</td>\n      <td>Expense</td>\n      <td>451.00</td>\n    </tr>\n    <tr>\n      <th>3</th>\n      <td>2023-12-30</td>\n      <td>Vishandel Sier Amsterdam</td>\n      <td>Expense</td>\n      <td>12.46</td>\n    </tr>\n    <tr>\n      <th>4</th>\n      <td>2023-12-29</td>\n      <td>Selling Paintings</td>\n      <td>Income</td>\n      <td>13.63</td>\n    </tr>\n  </tbody>\n</table>\n</div>"
     },
     "execution_count": 39,
     "metadata": {},
     "output_type": "execute_result"
    }
   ],
   "source": [
    "# Read the transactions_2022_2023.csv file \n",
    "import pandas as pd\n",
    "from pandas import DataFrame\n",
    "\n",
    "transactions_data: DataFrame = pd.read_csv(base_path + \"/transactions_2022_2023.csv\")\n",
    "transactions_data.head()"
   ]
  },
  {
   "cell_type": "code",
   "execution_count": 40,
   "metadata": {
    "ExecuteTime": {
     "end_time": "2024-03-13T22:50:14.907663Z",
     "start_time": "2024-03-13T22:50:14.903685Z"
    }
   },
   "outputs": [
    {
     "name": "stdout",
     "output_type": "stream",
     "text": [
      "unique labels: 31\n",
      "['Belastingdienst' 'Tesco Breda' 'Monthly Appartment Rent'\n",
      " 'Vishandel Sier Amsterdam' 'Selling Paintings' 'Spotify Ab By Adyen'\n",
      " 'Tk Maxx Amsterdam Da' 'Consulting' 'Aidsfonds' 'Tls Bv Inz Ov-Chipkaart'\n",
      " 'Etos Amsterdam' 'Beta Boulders Ams Amsterdam' 'Salary'\n",
      " 'Bouldermuur Bv Amsterdam' 'Birtat Restaurant Amsterdam' 'Freelancing'\n",
      " 'Tikkie' 'Blogging' 'Taxi Utrecht' 'Apple Services' 'Amazon Lux'\n",
      " 'Classpass* Monthly' 'Audible Uk AdblCo/Pymt Gbr' 'Twitch Lux'\n",
      " 'PayPal ltd' 'NTT Data' 'ATM Milano' 'Tenoha Milano'\n",
      " 'Librerie La Feltrinelli' 'Muji' 'LEGO Store Babila']\n"
     ]
    }
   ],
   "source": [
    "# Get unique transactions in the Name / Description column\n",
    "unique_transaction_labels = transactions_data[\"Name / Description\"].unique()\n",
    "unique_labels_count = len(unique_transaction_labels)\n",
    "print(f\"unique labels: {unique_labels_count}\\n{unique_transaction_labels}\")"
   ]
  },
  {
   "cell_type": "markdown",
   "metadata": {},
   "source": [
    "### Categorise bank transactions with Llama2"
   ]
  },
  {
   "cell_type": "code",
   "outputs": [
    {
     "data": {
      "text/plain": "[['Belastingdienst',\n  'Tesco Breda',\n  'Monthly Appartment Rent',\n  'Vishandel Sier Amsterdam',\n  'Selling Paintings',\n  'Spotify Ab By Adyen',\n  'Tk Maxx Amsterdam Da',\n  'Consulting',\n  'Aidsfonds',\n  'Tls Bv Inz Ov-Chipkaart',\n  'Etos Amsterdam',\n  'Beta Boulders Ams Amsterdam',\n  'Salary',\n  'Bouldermuur Bv Amsterdam',\n  'Birtat Restaurant Amsterdam',\n  'Freelancing',\n  'Tikkie',\n  'Blogging',\n  'Taxi Utrecht',\n  'Apple Services',\n  'Amazon Lux',\n  'Classpass* Monthly',\n  'Audible Uk AdblCo/Pymt Gbr',\n  'Twitch Lux',\n  'PayPal ltd'],\n ['NTT Data',\n  'ATM Milano',\n  'Tenoha Milano',\n  'Librerie La Feltrinelli',\n  'Muji',\n  'LEGO Store Babila']]"
     },
     "execution_count": 41,
     "metadata": {},
     "output_type": "execute_result"
    }
   ],
   "source": [
    "chunk_size = 25\n",
    "labels_groups = [list(unique_transaction_labels[i: i + chunk_size]) for i in\n",
    "                 range(0, len(unique_transaction_labels), chunk_size)]\n",
    "labels_groups"
   ],
   "metadata": {
    "collapsed": false,
    "ExecuteTime": {
     "end_time": "2024-03-13T22:50:14.914049Z",
     "start_time": "2024-03-13T22:50:14.909083Z"
    }
   },
   "execution_count": 41
  },
  {
   "cell_type": "code",
   "execution_count": 42,
   "metadata": {
    "ExecuteTime": {
     "end_time": "2024-03-13T22:50:14.919364Z",
     "start_time": "2024-03-13T22:50:14.916231Z"
    }
   },
   "outputs": [],
   "source": [
    "def response_check(value: list[str]):\n",
    "    for item in value:\n",
    "        assert \"-\" in item, \"String does not contain hyphen.\"\n"
   ]
  },
  {
   "cell_type": "code",
   "execution_count": 43,
   "metadata": {
    "ExecuteTime": {
     "end_time": "2024-03-13T22:50:14.925923Z",
     "start_time": "2024-03-13T22:50:14.920845Z"
    }
   },
   "outputs": [],
   "source": [
    "import re\n",
    "\n",
    "\n",
    "def categorize_transactions(transaction_names: list[str], llm: Ollama):\n",
    "    raw_response = llm.invoke(\n",
    "        \"Avoiding any explanation, add an appropriate category to each of the following expenses: \" + \",\".join(transaction_names))\n",
    "    # print(f\"raw response: {response}\") # DEBUG\n",
    "    response = raw_response.split('\\n')\n",
    "\n",
    "    # Keep only the lines in between blank lines (removing the explanation lines at the beginning and end of the response)\n",
    "    blank_indexes = [index for index in range(0, len(response)) if response[index] == '']\n",
    "    if len(blank_indexes) == 1:\n",
    "        response = response[(blank_indexes[0] + 1):]\n",
    "    else:\n",
    "        response = response[(blank_indexes[0] + 1): blank_indexes[1]]\n",
    "\n",
    "    # Print response and validate if it is in the correct format\n",
    "    response = [re.sub(r\"\\d+\\. \", \"\", r) for r in response if len(r) > 0]\n",
    "    response_check(response)\n",
    "    \n",
    "    if len(transaction_names) != len(response):\n",
    "        print(f\"mismatch in response number!\\ngiven labels: {transaction_names}\\nreceived response: {raw_response}\\n\")\n",
    "    # Put in dataframe\n",
    "    categories_df = pd.DataFrame({\"Transaction vs category\": response})\n",
    "    categories_df[[\"Transaction\", \"Category\"]] = categories_df[\"Transaction vs category\"].str.split(' - ', expand=True)\n",
    "    categories_df.drop([\"Transaction vs category\"], axis=1, inplace=True)\n",
    "\n",
    "    return categories_df"
   ]
  },
  {
   "cell_type": "code",
   "execution_count": 44,
   "metadata": {
    "ExecuteTime": {
     "end_time": "2024-03-13T22:50:14.930941Z",
     "start_time": "2024-03-13T22:50:14.927132Z"
    }
   },
   "outputs": [],
   "source": [
    "# Test out the function\n",
    "test_categorization_function_response = None\n",
    "if is_test:\n",
    "    test_categorization_function_response = categorize_transactions(\n",
    "        ['ISS Catering Services De Meern', 'Vishandel Sier AMSTELVEEN', 'Etos AMSTERDAM NLD', 'Bistro Bar Amsterdam'],\n",
    "        llm\n",
    "    )\n",
    "test_categorization_function_response"
   ]
  },
  {
   "cell_type": "code",
   "outputs": [
    {
     "data": {
      "text/plain": "               Transaction      Category\n0                 NTT Data    Technology\n1               ATM Milano       Finance\n2            Tenoha Milano       Fashion\n3  Librerie La Feltrinelli         Books\n4                     Muji  Home & Decor\n5        LEGO Store Babila          Toys",
      "text/html": "<div>\n<style scoped>\n    .dataframe tbody tr th:only-of-type {\n        vertical-align: middle;\n    }\n\n    .dataframe tbody tr th {\n        vertical-align: top;\n    }\n\n    .dataframe thead th {\n        text-align: right;\n    }\n</style>\n<table border=\"1\" class=\"dataframe\">\n  <thead>\n    <tr style=\"text-align: right;\">\n      <th></th>\n      <th>Transaction</th>\n      <th>Category</th>\n    </tr>\n  </thead>\n  <tbody>\n    <tr>\n      <th>0</th>\n      <td>NTT Data</td>\n      <td>Technology</td>\n    </tr>\n    <tr>\n      <th>1</th>\n      <td>ATM Milano</td>\n      <td>Finance</td>\n    </tr>\n    <tr>\n      <th>2</th>\n      <td>Tenoha Milano</td>\n      <td>Fashion</td>\n    </tr>\n    <tr>\n      <th>3</th>\n      <td>Librerie La Feltrinelli</td>\n      <td>Books</td>\n    </tr>\n    <tr>\n      <th>4</th>\n      <td>Muji</td>\n      <td>Home &amp; Decor</td>\n    </tr>\n    <tr>\n      <th>5</th>\n      <td>LEGO Store Babila</td>\n      <td>Toys</td>\n    </tr>\n  </tbody>\n</table>\n</div>"
     },
     "execution_count": 45,
     "metadata": {},
     "output_type": "execute_result"
    }
   ],
   "source": [
    "categories_dataframe = DataFrame()\n",
    "max_tries = 3\n",
    "\n",
    "for labels in labels_groups:\n",
    "    tries = 0\n",
    "    mapped_categories = None\n",
    "    while tries < max_tries and mapped_categories is None:\n",
    "        try:\n",
    "            mapped_categories = categorize_transactions(labels, llm)\n",
    "        except Exception as e:\n",
    "            if tries < max_tries:\n",
    "                tries += 1\n",
    "            else:\n",
    "                raise Exception(f\"Failed categorizing transactions for {labels}\") from e\n",
    "        categories_dataframe = pd.concat([categories_dataframe, mapped_categories], ignore_index=True)\n",
    "\n",
    "categories_dataframe"
   ],
   "metadata": {
    "collapsed": false,
    "ExecuteTime": {
     "end_time": "2024-03-13T22:50:31.139484Z",
     "start_time": "2024-03-13T22:50:14.932339Z"
    }
   },
   "execution_count": 45
  },
  {
   "cell_type": "code",
   "execution_count": 46,
   "metadata": {
    "ExecuteTime": {
     "end_time": "2024-03-13T22:50:31.148963Z",
     "start_time": "2024-03-13T22:50:31.141416Z"
    }
   },
   "outputs": [
    {
     "data": {
      "text/plain": "               Transaction      Category\n0                 NTT Data    Technology\n1               ATM Milano       Finance\n2            Tenoha Milano       Fashion\n3  Librerie La Feltrinelli         Books\n4                     Muji  Home & Decor\n5        LEGO Store Babila          Toys",
      "text/html": "<div>\n<style scoped>\n    .dataframe tbody tr th:only-of-type {\n        vertical-align: middle;\n    }\n\n    .dataframe tbody tr th {\n        vertical-align: top;\n    }\n\n    .dataframe thead th {\n        text-align: right;\n    }\n</style>\n<table border=\"1\" class=\"dataframe\">\n  <thead>\n    <tr style=\"text-align: right;\">\n      <th></th>\n      <th>Transaction</th>\n      <th>Category</th>\n    </tr>\n  </thead>\n  <tbody>\n    <tr>\n      <th>0</th>\n      <td>NTT Data</td>\n      <td>Technology</td>\n    </tr>\n    <tr>\n      <th>1</th>\n      <td>ATM Milano</td>\n      <td>Finance</td>\n    </tr>\n    <tr>\n      <th>2</th>\n      <td>Tenoha Milano</td>\n      <td>Fashion</td>\n    </tr>\n    <tr>\n      <th>3</th>\n      <td>Librerie La Feltrinelli</td>\n      <td>Books</td>\n    </tr>\n    <tr>\n      <th>4</th>\n      <td>Muji</td>\n      <td>Home &amp; Decor</td>\n    </tr>\n    <tr>\n      <th>5</th>\n      <td>LEGO Store Babila</td>\n      <td>Toys</td>\n    </tr>\n  </tbody>\n</table>\n</div>"
     },
     "execution_count": 46,
     "metadata": {},
     "output_type": "execute_result"
    }
   ],
   "source": [
    "# Drop NA values\n",
    "categories_dataframe = categories_dataframe.dropna()\n",
    "\n",
    "# If category contains \"Food\", then categorise as \"Food and Drinks\"\n",
    "categories_dataframe.loc[categories_dataframe['Category'].str.contains(\"Food\"), 'Category'] = \"Food and Drinks\"\n",
    "# If category contains \"Clothing\", then categorise as \"Clothing\"\n",
    "categories_dataframe.loc[categories_dataframe['Category'].str.contains(\"Clothing\"), 'Category'] = \"Clothing\"\n",
    "# If category contains \"Services\", then categorise as \"Services\"\n",
    "categories_dataframe.loc[categories_dataframe['Category'].str.contains(\"Services\"), 'Category'] = \"Services\"\n",
    "# If category contains \"Health\" or \"Wellness\", then categorise as \"Health and Wellness\"\n",
    "categories_dataframe.loc[categories_dataframe['Category'].str.contains(\"Health|Wellness\"), 'Category'] = \"Health and Wellness\"\n",
    "# If category contains \"Sport\", then categorise as \"Sport\n",
    "#  and Fitness\"\n",
    "categories_dataframe.loc[categories_dataframe['Category'].str.contains(\"Sport\"), 'Category'] = \"Sport and Fitness\"\n",
    "# If category contains \"Travel\", then categorise as \"Travel\"\n",
    "categories_dataframe.loc[categories_dataframe['Category'].str.contains(\"Travel\"), 'Category'] = \"Travel\"\n",
    "categories_dataframe"
   ]
  },
  {
   "cell_type": "code",
   "execution_count": 47,
   "metadata": {
    "ExecuteTime": {
     "end_time": "2024-03-13T22:50:31.164337Z",
     "start_time": "2024-03-13T22:50:31.150204Z"
    }
   },
   "outputs": [
    {
     "data": {
      "text/plain": "          Date           Name / Description Expense/Income  Amount (EUR)  \\\n0   2023-12-30              Belastingdienst        Expense          9.96   \n1   2023-12-30                  Tesco Breda        Expense         17.53   \n2   2023-12-30      Monthly Appartment Rent        Expense        451.00   \n3   2023-12-30     Vishandel Sier Amsterdam        Expense         12.46   \n4   2023-12-29            Selling Paintings         Income         13.63   \n5   2023-12-29          Spotify AB By Adyen        Expense         12.19   \n6   2023-12-23         Tk Maxx Amsterdam Da        Expense         27.08   \n7   2023-12-22                   Consulting         Income        541.57   \n8   2023-12-22                    Aidsfonds        Expense         10.70   \n9   2023-12-20                   Consulting         Income       2641.93   \n10  2023-12-19      Tls Bv Inz Ov-Chipkaart        Expense         18.90   \n11  2023-12-18               Etos Amsterdam        Expense         17.67   \n12  2023-12-18                  Tesco Breda        Expense          8.81   \n13  2023-12-18  Beta Boulders Ams Amsterdam        Expense          6.94   \n14  2022-11-26                       Salary         Income         14.36   \n15  2022-11-26     Bouldermuur Bv Amsterdam        Expense         19.27   \n16  2022-11-26  Birtat Restaurant Amsterdam        Expense         24.71   \n17  2022-11-25                  Tesco Breda        Expense         17.35   \n18  2022-11-24                  Freelancing         Income       2409.55   \n19  2022-11-19                       Tikkie        Expense         20.76   \n20  2022-10-25                     Blogging         Income       4044.27   \n21  2022-10-24                 Taxi Utrecht        Expense         18.90   \n22  2022-10-23                  Tesco Breda        Expense         27.54   \n23  2022-10-22               Apple Services        Expense         41.25   \n24  2022-10-21                  Tesco Breda        Expense         22.80   \n25  2022-01-16                   Amazon Lux        Expense         24.11   \n26  2022-01-15           Classpass* Monthly        Expense         30.08   \n27  2022-01-14   Audible Uk AdblCo/Pymt Gbr        Expense         11.00   \n28  2022-02-03                   Twitch Lux        Expense          3.99   \n29  2022-02-15                   PayPal ltd        Expense         14.99   \n30  2022-02-20                     NTT Data         Income        579.64   \n31  2022-02-22                   ATM Milano        Expense          4.00   \n32  2022-02-22                Tenoha Milano        Expense         28.50   \n33  2022-02-22      Librerie La Feltrinelli        Expense         19.90   \n34  2022-02-22                         Muji        Expense         18.58   \n35  2022-02-22            LEGO Store Babila        Expense        129.90   \n36  2022-02-03                   Twitch Lux        Expense          3.99   \n37  2022-02-15                   PayPal ltd        Expense         14.99   \n38  2022-02-20                     NTT Data         Income        579.64   \n39  2022-02-22                   ATM Milano        Expense          4.00   \n40  2022-02-22                Tenoha Milano        Expense         28.50   \n41  2022-02-22      Librerie La Feltrinelli        Expense         19.90   \n42  2022-02-22                         Muji        Expense         18.58   \n43  2022-02-22            LEGO Store Babila        Expense        129.90   \n\n        Category  \n0            NaN  \n1            NaN  \n2            NaN  \n3            NaN  \n4            NaN  \n5            NaN  \n6            NaN  \n7            NaN  \n8            NaN  \n9            NaN  \n10           NaN  \n11           NaN  \n12           NaN  \n13           NaN  \n14           NaN  \n15           NaN  \n16           NaN  \n17           NaN  \n18           NaN  \n19           NaN  \n20           NaN  \n21           NaN  \n22           NaN  \n23           NaN  \n24           NaN  \n25           NaN  \n26           NaN  \n27           NaN  \n28           NaN  \n29           NaN  \n30    Technology  \n31       Finance  \n32       Fashion  \n33         Books  \n34  Home & Decor  \n35          Toys  \n36           NaN  \n37           NaN  \n38    Technology  \n39       Finance  \n40       Fashion  \n41         Books  \n42  Home & Decor  \n43          Toys  ",
      "text/html": "<div>\n<style scoped>\n    .dataframe tbody tr th:only-of-type {\n        vertical-align: middle;\n    }\n\n    .dataframe tbody tr th {\n        vertical-align: top;\n    }\n\n    .dataframe thead th {\n        text-align: right;\n    }\n</style>\n<table border=\"1\" class=\"dataframe\">\n  <thead>\n    <tr style=\"text-align: right;\">\n      <th></th>\n      <th>Date</th>\n      <th>Name / Description</th>\n      <th>Expense/Income</th>\n      <th>Amount (EUR)</th>\n      <th>Category</th>\n    </tr>\n  </thead>\n  <tbody>\n    <tr>\n      <th>0</th>\n      <td>2023-12-30</td>\n      <td>Belastingdienst</td>\n      <td>Expense</td>\n      <td>9.96</td>\n      <td>NaN</td>\n    </tr>\n    <tr>\n      <th>1</th>\n      <td>2023-12-30</td>\n      <td>Tesco Breda</td>\n      <td>Expense</td>\n      <td>17.53</td>\n      <td>NaN</td>\n    </tr>\n    <tr>\n      <th>2</th>\n      <td>2023-12-30</td>\n      <td>Monthly Appartment Rent</td>\n      <td>Expense</td>\n      <td>451.00</td>\n      <td>NaN</td>\n    </tr>\n    <tr>\n      <th>3</th>\n      <td>2023-12-30</td>\n      <td>Vishandel Sier Amsterdam</td>\n      <td>Expense</td>\n      <td>12.46</td>\n      <td>NaN</td>\n    </tr>\n    <tr>\n      <th>4</th>\n      <td>2023-12-29</td>\n      <td>Selling Paintings</td>\n      <td>Income</td>\n      <td>13.63</td>\n      <td>NaN</td>\n    </tr>\n    <tr>\n      <th>5</th>\n      <td>2023-12-29</td>\n      <td>Spotify AB By Adyen</td>\n      <td>Expense</td>\n      <td>12.19</td>\n      <td>NaN</td>\n    </tr>\n    <tr>\n      <th>6</th>\n      <td>2023-12-23</td>\n      <td>Tk Maxx Amsterdam Da</td>\n      <td>Expense</td>\n      <td>27.08</td>\n      <td>NaN</td>\n    </tr>\n    <tr>\n      <th>7</th>\n      <td>2023-12-22</td>\n      <td>Consulting</td>\n      <td>Income</td>\n      <td>541.57</td>\n      <td>NaN</td>\n    </tr>\n    <tr>\n      <th>8</th>\n      <td>2023-12-22</td>\n      <td>Aidsfonds</td>\n      <td>Expense</td>\n      <td>10.70</td>\n      <td>NaN</td>\n    </tr>\n    <tr>\n      <th>9</th>\n      <td>2023-12-20</td>\n      <td>Consulting</td>\n      <td>Income</td>\n      <td>2641.93</td>\n      <td>NaN</td>\n    </tr>\n    <tr>\n      <th>10</th>\n      <td>2023-12-19</td>\n      <td>Tls Bv Inz Ov-Chipkaart</td>\n      <td>Expense</td>\n      <td>18.90</td>\n      <td>NaN</td>\n    </tr>\n    <tr>\n      <th>11</th>\n      <td>2023-12-18</td>\n      <td>Etos Amsterdam</td>\n      <td>Expense</td>\n      <td>17.67</td>\n      <td>NaN</td>\n    </tr>\n    <tr>\n      <th>12</th>\n      <td>2023-12-18</td>\n      <td>Tesco Breda</td>\n      <td>Expense</td>\n      <td>8.81</td>\n      <td>NaN</td>\n    </tr>\n    <tr>\n      <th>13</th>\n      <td>2023-12-18</td>\n      <td>Beta Boulders Ams Amsterdam</td>\n      <td>Expense</td>\n      <td>6.94</td>\n      <td>NaN</td>\n    </tr>\n    <tr>\n      <th>14</th>\n      <td>2022-11-26</td>\n      <td>Salary</td>\n      <td>Income</td>\n      <td>14.36</td>\n      <td>NaN</td>\n    </tr>\n    <tr>\n      <th>15</th>\n      <td>2022-11-26</td>\n      <td>Bouldermuur Bv Amsterdam</td>\n      <td>Expense</td>\n      <td>19.27</td>\n      <td>NaN</td>\n    </tr>\n    <tr>\n      <th>16</th>\n      <td>2022-11-26</td>\n      <td>Birtat Restaurant Amsterdam</td>\n      <td>Expense</td>\n      <td>24.71</td>\n      <td>NaN</td>\n    </tr>\n    <tr>\n      <th>17</th>\n      <td>2022-11-25</td>\n      <td>Tesco Breda</td>\n      <td>Expense</td>\n      <td>17.35</td>\n      <td>NaN</td>\n    </tr>\n    <tr>\n      <th>18</th>\n      <td>2022-11-24</td>\n      <td>Freelancing</td>\n      <td>Income</td>\n      <td>2409.55</td>\n      <td>NaN</td>\n    </tr>\n    <tr>\n      <th>19</th>\n      <td>2022-11-19</td>\n      <td>Tikkie</td>\n      <td>Expense</td>\n      <td>20.76</td>\n      <td>NaN</td>\n    </tr>\n    <tr>\n      <th>20</th>\n      <td>2022-10-25</td>\n      <td>Blogging</td>\n      <td>Income</td>\n      <td>4044.27</td>\n      <td>NaN</td>\n    </tr>\n    <tr>\n      <th>21</th>\n      <td>2022-10-24</td>\n      <td>Taxi Utrecht</td>\n      <td>Expense</td>\n      <td>18.90</td>\n      <td>NaN</td>\n    </tr>\n    <tr>\n      <th>22</th>\n      <td>2022-10-23</td>\n      <td>Tesco Breda</td>\n      <td>Expense</td>\n      <td>27.54</td>\n      <td>NaN</td>\n    </tr>\n    <tr>\n      <th>23</th>\n      <td>2022-10-22</td>\n      <td>Apple Services</td>\n      <td>Expense</td>\n      <td>41.25</td>\n      <td>NaN</td>\n    </tr>\n    <tr>\n      <th>24</th>\n      <td>2022-10-21</td>\n      <td>Tesco Breda</td>\n      <td>Expense</td>\n      <td>22.80</td>\n      <td>NaN</td>\n    </tr>\n    <tr>\n      <th>25</th>\n      <td>2022-01-16</td>\n      <td>Amazon Lux</td>\n      <td>Expense</td>\n      <td>24.11</td>\n      <td>NaN</td>\n    </tr>\n    <tr>\n      <th>26</th>\n      <td>2022-01-15</td>\n      <td>Classpass* Monthly</td>\n      <td>Expense</td>\n      <td>30.08</td>\n      <td>NaN</td>\n    </tr>\n    <tr>\n      <th>27</th>\n      <td>2022-01-14</td>\n      <td>Audible Uk AdblCo/Pymt Gbr</td>\n      <td>Expense</td>\n      <td>11.00</td>\n      <td>NaN</td>\n    </tr>\n    <tr>\n      <th>28</th>\n      <td>2022-02-03</td>\n      <td>Twitch Lux</td>\n      <td>Expense</td>\n      <td>3.99</td>\n      <td>NaN</td>\n    </tr>\n    <tr>\n      <th>29</th>\n      <td>2022-02-15</td>\n      <td>PayPal ltd</td>\n      <td>Expense</td>\n      <td>14.99</td>\n      <td>NaN</td>\n    </tr>\n    <tr>\n      <th>30</th>\n      <td>2022-02-20</td>\n      <td>NTT Data</td>\n      <td>Income</td>\n      <td>579.64</td>\n      <td>Technology</td>\n    </tr>\n    <tr>\n      <th>31</th>\n      <td>2022-02-22</td>\n      <td>ATM Milano</td>\n      <td>Expense</td>\n      <td>4.00</td>\n      <td>Finance</td>\n    </tr>\n    <tr>\n      <th>32</th>\n      <td>2022-02-22</td>\n      <td>Tenoha Milano</td>\n      <td>Expense</td>\n      <td>28.50</td>\n      <td>Fashion</td>\n    </tr>\n    <tr>\n      <th>33</th>\n      <td>2022-02-22</td>\n      <td>Librerie La Feltrinelli</td>\n      <td>Expense</td>\n      <td>19.90</td>\n      <td>Books</td>\n    </tr>\n    <tr>\n      <th>34</th>\n      <td>2022-02-22</td>\n      <td>Muji</td>\n      <td>Expense</td>\n      <td>18.58</td>\n      <td>Home &amp; Decor</td>\n    </tr>\n    <tr>\n      <th>35</th>\n      <td>2022-02-22</td>\n      <td>LEGO Store Babila</td>\n      <td>Expense</td>\n      <td>129.90</td>\n      <td>Toys</td>\n    </tr>\n    <tr>\n      <th>36</th>\n      <td>2022-02-03</td>\n      <td>Twitch Lux</td>\n      <td>Expense</td>\n      <td>3.99</td>\n      <td>NaN</td>\n    </tr>\n    <tr>\n      <th>37</th>\n      <td>2022-02-15</td>\n      <td>PayPal ltd</td>\n      <td>Expense</td>\n      <td>14.99</td>\n      <td>NaN</td>\n    </tr>\n    <tr>\n      <th>38</th>\n      <td>2022-02-20</td>\n      <td>NTT Data</td>\n      <td>Income</td>\n      <td>579.64</td>\n      <td>Technology</td>\n    </tr>\n    <tr>\n      <th>39</th>\n      <td>2022-02-22</td>\n      <td>ATM Milano</td>\n      <td>Expense</td>\n      <td>4.00</td>\n      <td>Finance</td>\n    </tr>\n    <tr>\n      <th>40</th>\n      <td>2022-02-22</td>\n      <td>Tenoha Milano</td>\n      <td>Expense</td>\n      <td>28.50</td>\n      <td>Fashion</td>\n    </tr>\n    <tr>\n      <th>41</th>\n      <td>2022-02-22</td>\n      <td>Librerie La Feltrinelli</td>\n      <td>Expense</td>\n      <td>19.90</td>\n      <td>Books</td>\n    </tr>\n    <tr>\n      <th>42</th>\n      <td>2022-02-22</td>\n      <td>Muji</td>\n      <td>Expense</td>\n      <td>18.58</td>\n      <td>Home &amp; Decor</td>\n    </tr>\n    <tr>\n      <th>43</th>\n      <td>2022-02-22</td>\n      <td>LEGO Store Babila</td>\n      <td>Expense</td>\n      <td>129.90</td>\n      <td>Toys</td>\n    </tr>\n  </tbody>\n</table>\n</div>"
     },
     "execution_count": 47,
     "metadata": {},
     "output_type": "execute_result"
    }
   ],
   "source": [
    "# Merge the categories_df_all with the transactions_2022_2023.csv dataframe (df)\n",
    "transactions_data = pd.read_csv(base_path + \"/transactions_2022_2023.csv\")\n",
    "transactions_data.loc[transactions_data['Name / Description'].str.contains(\"Spotify\"), 'Name / Description'] = \"Spotify AB By Adyen\"\n",
    "transactions_data[\"ND_JOIN\"] = transactions_data[\"Name / Description\"].str.upper()\n",
    "categories_dataframe[\"T_JOIN\"] = categories_dataframe[\"Transaction\"].str.upper()\n",
    "transactions_data = pd.merge(transactions_data, categories_dataframe, left_on=\"ND_JOIN\", right_on=\"T_JOIN\", how=\"left\")\n",
    "transactions_data.drop([\"ND_JOIN\", \"T_JOIN\", \"Transaction\"], axis=1, inplace=True)\n",
    "transactions_data"
   ]
  },
  {
   "cell_type": "code",
   "execution_count": 48,
   "metadata": {
    "ExecuteTime": {
     "end_time": "2024-03-13T22:50:31.170392Z",
     "start_time": "2024-03-13T22:50:31.165384Z"
    }
   },
   "outputs": [],
   "source": [
    "transactions_data.to_csv(base_path + \"/transactions_2022_2023_categorized.csv\", index=False)"
   ]
  }
 ],
 "metadata": {
  "kernelspec": {
   "display_name": "Python 3",
   "language": "python",
   "name": "python3"
  },
  "language_info": {
   "codemirror_mode": {
    "name": "ipython",
    "version": 3
   },
   "file_extension": ".py",
   "mimetype": "text/x-python",
   "name": "python",
   "nbconvert_exporter": "python",
   "pygments_lexer": "ipython3",
   "version": "3.10.6"
  }
 },
 "nbformat": 4,
 "nbformat_minor": 2
}
